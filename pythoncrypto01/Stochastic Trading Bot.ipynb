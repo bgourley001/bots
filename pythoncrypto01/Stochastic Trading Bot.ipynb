{
 "cells": [
  {
   "cell_type": "code",
   "execution_count": 4,
   "id": "bd91b7e4",
   "metadata": {},
   "outputs": [],
   "source": [
    "import pandas as pd\n",
    "import numpy as np\n",
    "import ta\n",
    "import time\n",
    "from binance import Client\n",
    "from binancekeys import api_key, secret_key"
   ]
  },
  {
   "cell_type": "code",
   "execution_count": 6,
   "id": "2c244dcd",
   "metadata": {},
   "outputs": [],
   "source": [
    "client = Client(api_key, secret_key)"
   ]
  },
  {
   "cell_type": "code",
   "execution_count": 7,
   "id": "b55c5e51",
   "metadata": {},
   "outputs": [],
   "source": [
    "def getminutedata(symbol, interval, lookback):\n",
    "    frame = pd.DataFrame(client.get_historical_klines(symbol,\n",
    "                                                     interval,\n",
    "                                                     lookback + ' min ago UTC'))\n",
    "    frame = frame.iloc[:,:6]\n",
    "    frame.columns = ['Time', 'Open', 'High', 'Low', 'Close', 'Volume']\n",
    "    frame = frame.set_index('Time')\n",
    "    frame.index = pd.to_datetime(frame.index, unit='ms')\n",
    "    frame = frame.astype(float)\n",
    "    \n",
    "    return frame"
   ]
  },
  {
   "cell_type": "code",
   "execution_count": 11,
   "id": "8efbe549",
   "metadata": {},
   "outputs": [],
   "source": [
    "df = getminutedata('ADAUSDT', '1m', '100')"
   ]
  },
  {
   "cell_type": "code",
   "execution_count": 14,
   "id": "bf05fcab",
   "metadata": {},
   "outputs": [],
   "source": [
    "def applytechnicals(df):\n",
    "    df['%K'] = ta.momentum.stoch(df.High, df.Low, df.Close, window=14, smooth_window=3)\n",
    "    df['%D'] = df['%K'].rolling(3).mean()\n",
    "    df['rsi'] = ta.momentum.rsi(df.Close, window=14)\n",
    "    df['macd'] = ta.trend.macd_diff(df.Close)\n",
    "    df.dropna(inplace=True)"
   ]
  },
  {
   "cell_type": "code",
   "execution_count": 15,
   "id": "e94d743e",
   "metadata": {},
   "outputs": [],
   "source": [
    "applytechnicals(df)"
   ]
  },
  {
   "cell_type": "code",
   "execution_count": 18,
   "id": "c1b5ae8b",
   "metadata": {},
   "outputs": [],
   "source": [
    "class Signals:\n",
    "    def __init__(self, df, lags):\n",
    "        self.df = df\n",
    "        self.lags = lags\n",
    "        \n",
    "    def gettrigger(self):\n",
    "        dfx = pd.DataFrame()\n",
    "        for i in range(self.lags + 1):\n",
    "            mask = (self.df['%K'].shift(i) < 20) & (self.df['%D'].shift(i) < 20)\n",
    "            dfx = dfx.append(mask, ignore_index=True)\n",
    "            \n",
    "        return dfx.sum(axis=0)\n",
    "    \n",
    "    def decide(self):\n",
    "        self.df['trigger'] = np.where(self.gettrigger(), 1, 0)\n",
    "        self.df['Buy'] = np.where((self.df.trigger) &\n",
    "                                 (self.df['%K'].between(20, 80)) & (self.df['%D'].between(20, 80)) &\n",
    "                                 (self.df.rsi > 50) & (self.df.macd > 0), 1, 0)\n",
    "        "
   ]
  },
  {
   "cell_type": "code",
   "execution_count": 23,
   "id": "be743d8f",
   "metadata": {},
   "outputs": [],
   "source": [
    "inst = Signals(df, 25)"
   ]
  },
  {
   "cell_type": "code",
   "execution_count": 24,
   "id": "eaaf60a6",
   "metadata": {},
   "outputs": [
    {
     "name": "stderr",
     "output_type": "stream",
     "text": [
      "C:\\Users\\bgour\\AppData\\Local\\Temp\\ipykernel_11860\\2673246236.py:10: FutureWarning: The frame.append method is deprecated and will be removed from pandas in a future version. Use pandas.concat instead.\n",
      "  dfx = dfx.append(mask, ignore_index=True)\n",
      "C:\\Users\\bgour\\AppData\\Local\\Temp\\ipykernel_11860\\2673246236.py:10: FutureWarning: The frame.append method is deprecated and will be removed from pandas in a future version. Use pandas.concat instead.\n",
      "  dfx = dfx.append(mask, ignore_index=True)\n",
      "C:\\Users\\bgour\\AppData\\Local\\Temp\\ipykernel_11860\\2673246236.py:10: FutureWarning: The frame.append method is deprecated and will be removed from pandas in a future version. Use pandas.concat instead.\n",
      "  dfx = dfx.append(mask, ignore_index=True)\n",
      "C:\\Users\\bgour\\AppData\\Local\\Temp\\ipykernel_11860\\2673246236.py:10: FutureWarning: The frame.append method is deprecated and will be removed from pandas in a future version. Use pandas.concat instead.\n",
      "  dfx = dfx.append(mask, ignore_index=True)\n",
      "C:\\Users\\bgour\\AppData\\Local\\Temp\\ipykernel_11860\\2673246236.py:10: FutureWarning: The frame.append method is deprecated and will be removed from pandas in a future version. Use pandas.concat instead.\n",
      "  dfx = dfx.append(mask, ignore_index=True)\n",
      "C:\\Users\\bgour\\AppData\\Local\\Temp\\ipykernel_11860\\2673246236.py:10: FutureWarning: The frame.append method is deprecated and will be removed from pandas in a future version. Use pandas.concat instead.\n",
      "  dfx = dfx.append(mask, ignore_index=True)\n",
      "C:\\Users\\bgour\\AppData\\Local\\Temp\\ipykernel_11860\\2673246236.py:10: FutureWarning: The frame.append method is deprecated and will be removed from pandas in a future version. Use pandas.concat instead.\n",
      "  dfx = dfx.append(mask, ignore_index=True)\n",
      "C:\\Users\\bgour\\AppData\\Local\\Temp\\ipykernel_11860\\2673246236.py:10: FutureWarning: The frame.append method is deprecated and will be removed from pandas in a future version. Use pandas.concat instead.\n",
      "  dfx = dfx.append(mask, ignore_index=True)\n",
      "C:\\Users\\bgour\\AppData\\Local\\Temp\\ipykernel_11860\\2673246236.py:10: FutureWarning: The frame.append method is deprecated and will be removed from pandas in a future version. Use pandas.concat instead.\n",
      "  dfx = dfx.append(mask, ignore_index=True)\n",
      "C:\\Users\\bgour\\AppData\\Local\\Temp\\ipykernel_11860\\2673246236.py:10: FutureWarning: The frame.append method is deprecated and will be removed from pandas in a future version. Use pandas.concat instead.\n",
      "  dfx = dfx.append(mask, ignore_index=True)\n",
      "C:\\Users\\bgour\\AppData\\Local\\Temp\\ipykernel_11860\\2673246236.py:10: FutureWarning: The frame.append method is deprecated and will be removed from pandas in a future version. Use pandas.concat instead.\n",
      "  dfx = dfx.append(mask, ignore_index=True)\n",
      "C:\\Users\\bgour\\AppData\\Local\\Temp\\ipykernel_11860\\2673246236.py:10: FutureWarning: The frame.append method is deprecated and will be removed from pandas in a future version. Use pandas.concat instead.\n",
      "  dfx = dfx.append(mask, ignore_index=True)\n",
      "C:\\Users\\bgour\\AppData\\Local\\Temp\\ipykernel_11860\\2673246236.py:10: FutureWarning: The frame.append method is deprecated and will be removed from pandas in a future version. Use pandas.concat instead.\n",
      "  dfx = dfx.append(mask, ignore_index=True)\n",
      "C:\\Users\\bgour\\AppData\\Local\\Temp\\ipykernel_11860\\2673246236.py:10: FutureWarning: The frame.append method is deprecated and will be removed from pandas in a future version. Use pandas.concat instead.\n",
      "  dfx = dfx.append(mask, ignore_index=True)\n",
      "C:\\Users\\bgour\\AppData\\Local\\Temp\\ipykernel_11860\\2673246236.py:10: FutureWarning: The frame.append method is deprecated and will be removed from pandas in a future version. Use pandas.concat instead.\n",
      "  dfx = dfx.append(mask, ignore_index=True)\n",
      "C:\\Users\\bgour\\AppData\\Local\\Temp\\ipykernel_11860\\2673246236.py:10: FutureWarning: The frame.append method is deprecated and will be removed from pandas in a future version. Use pandas.concat instead.\n",
      "  dfx = dfx.append(mask, ignore_index=True)\n",
      "C:\\Users\\bgour\\AppData\\Local\\Temp\\ipykernel_11860\\2673246236.py:10: FutureWarning: The frame.append method is deprecated and will be removed from pandas in a future version. Use pandas.concat instead.\n",
      "  dfx = dfx.append(mask, ignore_index=True)\n",
      "C:\\Users\\bgour\\AppData\\Local\\Temp\\ipykernel_11860\\2673246236.py:10: FutureWarning: The frame.append method is deprecated and will be removed from pandas in a future version. Use pandas.concat instead.\n",
      "  dfx = dfx.append(mask, ignore_index=True)\n",
      "C:\\Users\\bgour\\AppData\\Local\\Temp\\ipykernel_11860\\2673246236.py:10: FutureWarning: The frame.append method is deprecated and will be removed from pandas in a future version. Use pandas.concat instead.\n",
      "  dfx = dfx.append(mask, ignore_index=True)\n",
      "C:\\Users\\bgour\\AppData\\Local\\Temp\\ipykernel_11860\\2673246236.py:10: FutureWarning: The frame.append method is deprecated and will be removed from pandas in a future version. Use pandas.concat instead.\n",
      "  dfx = dfx.append(mask, ignore_index=True)\n",
      "C:\\Users\\bgour\\AppData\\Local\\Temp\\ipykernel_11860\\2673246236.py:10: FutureWarning: The frame.append method is deprecated and will be removed from pandas in a future version. Use pandas.concat instead.\n",
      "  dfx = dfx.append(mask, ignore_index=True)\n",
      "C:\\Users\\bgour\\AppData\\Local\\Temp\\ipykernel_11860\\2673246236.py:10: FutureWarning: The frame.append method is deprecated and will be removed from pandas in a future version. Use pandas.concat instead.\n",
      "  dfx = dfx.append(mask, ignore_index=True)\n",
      "C:\\Users\\bgour\\AppData\\Local\\Temp\\ipykernel_11860\\2673246236.py:10: FutureWarning: The frame.append method is deprecated and will be removed from pandas in a future version. Use pandas.concat instead.\n",
      "  dfx = dfx.append(mask, ignore_index=True)\n",
      "C:\\Users\\bgour\\AppData\\Local\\Temp\\ipykernel_11860\\2673246236.py:10: FutureWarning: The frame.append method is deprecated and will be removed from pandas in a future version. Use pandas.concat instead.\n",
      "  dfx = dfx.append(mask, ignore_index=True)\n",
      "C:\\Users\\bgour\\AppData\\Local\\Temp\\ipykernel_11860\\2673246236.py:10: FutureWarning: The frame.append method is deprecated and will be removed from pandas in a future version. Use pandas.concat instead.\n",
      "  dfx = dfx.append(mask, ignore_index=True)\n",
      "C:\\Users\\bgour\\AppData\\Local\\Temp\\ipykernel_11860\\2673246236.py:10: FutureWarning: The frame.append method is deprecated and will be removed from pandas in a future version. Use pandas.concat instead.\n",
      "  dfx = dfx.append(mask, ignore_index=True)\n"
     ]
    }
   ],
   "source": [
    "inst.decide()"
   ]
  },
  {
   "cell_type": "code",
   "execution_count": 26,
   "id": "54f10e79",
   "metadata": {},
   "outputs": [],
   "source": [
    "def strategy(pair, qty, open_position=False):\n",
    "    df = getminutedata(pair, '1m', '100')\n",
    "    applytechnicals(df)\n",
    "    inst = Signals(df, 25)\n",
    "    inst.decide()\n",
    "    print(f'current Close is '+str(df.Close.iloc[-1]))\n",
    "    if df.Buy.iloc[-1]:\n",
    "        order = client.create_order(symbol=pair,\n",
    "                                   side='BUY',\n",
    "                                   type='MARKET',\n",
    "                                   quantity=qty)\n",
    "        print(order)\n",
    "        print()\n",
    "        buyprice = float(order['fills'][0]['price'])\n",
    "        open_position=True\n",
    "        \n",
    "    while open_position:\n",
    "        time.sleep(0.5)\n",
    "        df = getminutedata(pair, '1m', '2')\n",
    "        print(f'current Close' + str(df.Close.iloc[-1]))\n",
    "        print(f'current Target' + str(buyprice * 1.005))\n",
    "        print(f'current Stop is' + str(buyprice * 0.995))\n",
    "        \n",
    "        if df.Close[-1] <= buyprice * 0.995 or df.Close[-1] >= buyprice * 1.005:\n",
    "            order = client.create_order(symbol=pair,\n",
    "                                       side='SELL',\n",
    "                                       type='MARKET',\n",
    "                                       quantity=qty)\n",
    "            print(order)\n",
    "            print()\n",
    "            break\n",
    "            "
   ]
  },
  {
   "cell_type": "code",
   "execution_count": null,
   "id": "80a92146",
   "metadata": {},
   "outputs": [],
   "source": [
    "'''\n",
    "while True:\n",
    "    strategy('ADAUSDT', 50)\n",
    "    time.sleep(0.5)\n",
    "'''"
   ]
  }
 ],
 "metadata": {
  "kernelspec": {
   "display_name": "Python 3 (ipykernel)",
   "language": "python",
   "name": "python3"
  },
  "language_info": {
   "codemirror_mode": {
    "name": "ipython",
    "version": 3
   },
   "file_extension": ".py",
   "mimetype": "text/x-python",
   "name": "python",
   "nbconvert_exporter": "python",
   "pygments_lexer": "ipython3",
   "version": "3.10.5"
  }
 },
 "nbformat": 4,
 "nbformat_minor": 5
}
