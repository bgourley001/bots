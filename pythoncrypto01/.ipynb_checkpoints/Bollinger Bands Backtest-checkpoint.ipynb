{
 "cells": [
  {
   "cell_type": "code",
   "execution_count": 74,
   "id": "1d0c1d45",
   "metadata": {},
   "outputs": [],
   "source": [
    "import pandas as pd"
   ]
  },
  {
   "cell_type": "code",
   "execution_count": 75,
   "id": "4f1870c9",
   "metadata": {},
   "outputs": [
    {
     "ename": "SyntaxError",
     "evalue": "unterminated string literal (detected at line 1) (1212073632.py, line 1)",
     "output_type": "error",
     "traceback": [
      "\u001b[1;36m  Input \u001b[1;32mIn [75]\u001b[1;36m\u001b[0m\n\u001b[1;33m    df = pd.read_csv('BTC_ETH_LTC_Jul0621_Jul0622_1h.csv)\u001b[0m\n\u001b[1;37m                     ^\u001b[0m\n\u001b[1;31mSyntaxError\u001b[0m\u001b[1;31m:\u001b[0m unterminated string literal (detected at line 1)\n"
     ]
    }
   ],
   "source": [
    "df = pd.read_csv('BTC_ETH_LTC_Jul0621_Jul0622_1h.csv')"
   ]
  },
  {
   "cell_type": "code",
   "execution_count": null,
   "id": "4fd83d42",
   "metadata": {},
   "outputs": [],
   "source": [
    "df.head()"
   ]
  },
  {
   "cell_type": "code",
   "execution_count": null,
   "id": "d9622217",
   "metadata": {},
   "outputs": [],
   "source": [
    "def sma(data, window):\n",
    "    return (data.rolling(window = window).mean())\n",
    "\n",
    "def bollinger_band(data, sma, window, ntsd):\n",
    "    std = data.rolling(window = window).std()\n",
    "    upper_band = sma + std * ntsd\n",
    "    lower_band = sma - std * ntsd\n",
    "    \n",
    "    return upper_band, lower_band"
   ]
  },
  {
   "cell_type": "code",
   "execution_count": null,
   "id": "b4b11114",
   "metadata": {},
   "outputs": [],
   "source": [
    "symbols = ['BTC', 'ETH', 'LTC']"
   ]
  },
  {
   "cell_type": "code",
   "execution_count": null,
   "id": "bec444e5",
   "metadata": {},
   "outputs": [],
   "source": [
    "nstd = 3\n",
    "\n",
    "for symbol in symbols:\n",
    "    df[f'{symbol}_sma'] = sma(df[f'{symbol}-USD_Open'],20)\n",
    "    df[f'{symbol}_upper_band'], df[f'{symbol}_lower_band'] = bollinger_band(df[f'{symbol}-USD_Open'], df[f'{symbol}-USD_Open'], 20, nstd)"
   ]
  },
  {
   "cell_type": "code",
   "execution_count": null,
   "id": "28e4e355",
   "metadata": {},
   "outputs": [],
   "source": [
    "df.dropna(inplace=True)"
   ]
  },
  {
   "cell_type": "code",
   "execution_count": null,
   "id": "d9155d01",
   "metadata": {},
   "outputs": [],
   "source": [
    "df.head()"
   ]
  },
  {
   "cell_type": "code",
   "execution_count": null,
   "id": "bbcb3437",
   "metadata": {},
   "outputs": [],
   "source": [
    "class TradingEnv:\n",
    "    def __init__(self, balance_amount, balance_unit, trading_fee_multiplier):\n",
    "        self.balance_amount = balance_amount\n",
    "        self.balance_unit = balance_unit\n",
    "        self.buys = []\n",
    "        self.sells = []\n",
    "        self.trading_fee_multiplier =  trading_fee_multiplier #VIP level 0, 0.99925 paying fees with BNB\n",
    "        \n",
    "    def buy(self, symbol, buy_price, time):\n",
    "        self.balance_amount = (self.balance_amount / buy_price) * self.trading_fee_multiplier\n",
    "        self.balance_unit = symbol\n",
    "        self.buys.append([symbol, time, buy_price])\n",
    "    \n",
    "    def sell(self, sell_price, time):\n",
    "        self.balance_amount = self.balance_amount * sell_price * self.trading_fee_multiplier\n",
    "        self.sells.append([self.balance_unit, time, sell_price])\n",
    "        self.balance_unit = 'USDT'"
   ]
  },
  {
   "cell_type": "code",
   "execution_count": null,
   "id": "e411ff69",
   "metadata": {},
   "outputs": [],
   "source": [
    "env = TradingEnv(balance_amount=100, balance_unit='USDT', trading_fee_multiplier=0.99925)"
   ]
  },
  {
   "cell_type": "code",
   "execution_count": null,
   "id": "61383478",
   "metadata": {},
   "outputs": [],
   "source": [
    "for i in range(len(df)):\n",
    "    if env.balance_unit == 'USDT':\n",
    "        for symbol in symbols:\n",
    "            if df[f'{symbol}-USD_Low'].iloc[i] < df[f'{symbol}_lower_band'].iloc[i]: #buy signal\n",
    "                env.buy(symbol, df[f'{symbol}_lower_band'].iloc[i], df['OpenTime'].iloc[i])\n",
    "                break\n",
    "\n",
    "    if env.balance_unit != 'USDT':\n",
    "        if df[f'{env.balance_unit}-USD_High'].iloc[i] > df[f'{env.balance_unit}_upper_band'].iloc[i]: #sell signal\n",
    "            env.sell(df[f'{env.balance_unit}_upper_band'].iloc[i], df['OpenTime'].iloc[i])\n",
    "            \n",
    "if env.balance_unit != 'USDT':\n",
    "    env.sell(df[f'{env.balance_unit}_upper_band'].iloc[-1], df['OpenTime'].iloc[-1])\n",
    "    "
   ]
  },
  {
   "cell_type": "code",
   "execution_count": null,
   "id": "05869572",
   "metadata": {},
   "outputs": [],
   "source": [
    "print(f'num_buys: {len(env.buys)}')\n",
    "print(f'num_sells: {len(env.sells)}')\n",
    "print(f'ending_balance: {env.balance_amount} {env.balance_unit}')"
   ]
  },
  {
   "cell_type": "code",
   "execution_count": null,
   "id": "7e31e65c",
   "metadata": {},
   "outputs": [],
   "source": []
  }
 ],
 "metadata": {
  "kernelspec": {
   "display_name": "Python 3 (ipykernel)",
   "language": "python",
   "name": "python3"
  },
  "language_info": {
   "codemirror_mode": {
    "name": "ipython",
    "version": 3
   },
   "file_extension": ".py",
   "mimetype": "text/x-python",
   "name": "python",
   "nbconvert_exporter": "python",
   "pygments_lexer": "ipython3",
   "version": "3.10.5"
  }
 },
 "nbformat": 4,
 "nbformat_minor": 5
}
