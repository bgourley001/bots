{
 "cells": [
  {
   "cell_type": "code",
   "execution_count": 503,
   "id": "0b34d651",
   "metadata": {},
   "outputs": [],
   "source": [
    "import pandas as pd\n",
    "import numpy as np\n",
    "import ta\n",
    "import time\n",
    "from datetime import datetime\n",
    "from binance import Client\n",
    "from binancekeys import api_key, secret_key\n",
    "from plot_utils import plot_results\n",
    "import warnings\n",
    "warnings.simplefilter(action='ignore', category=FutureWarning)"
   ]
  },
  {
   "cell_type": "code",
   "execution_count": 504,
   "id": "d11444e6",
   "metadata": {},
   "outputs": [],
   "source": [
    "client = Client(api_key, secret_key)"
   ]
  },
  {
   "cell_type": "code",
   "execution_count": 505,
   "id": "ececb863",
   "metadata": {},
   "outputs": [],
   "source": [
    "def getdata(symbol, interval, start_str, end_str):\n",
    "    frame = pd.DataFrame(client.get_historical_klines(symbol,\n",
    "                                                      interval,\n",
    "                                                      start_str,\n",
    "                                                      end_str))\n",
    "    frame = frame.iloc[:,:6]\n",
    "    cols = ['time',\n",
    "            f'open',\n",
    "            f'high',\n",
    "            f'low',\n",
    "            f'close',\n",
    "            f'volume']\n",
    "    frame.columns = cols\n",
    "    \n",
    "    return frame"
   ]
  },
  {
   "cell_type": "code",
   "execution_count": 506,
   "id": "bcd50d8c",
   "metadata": {},
   "outputs": [],
   "source": [
    "def applytechnicals(df):\n",
    "    df['%K'] = ta.momentum.stoch(df.high, df.low, df.close, window=8, smooth_window=3)\n",
    "    df['%D'] = df['%K'].rolling(3).mean()\n",
    "    df['rsi'] = ta.momentum.rsi(df.close, window=14)\n",
    "    df['macd'] = ta.trend.macd_diff(df.close)\n",
    "    df.dropna(inplace=True)\n",
    "    df.reset_index(drop=True, inplace=True)"
   ]
  },
  {
   "cell_type": "code",
   "execution_count": 507,
   "id": "20a6ca6e",
   "metadata": {},
   "outputs": [
    {
     "name": "stdout",
     "output_type": "stream",
     "text": [
      "gathering XMR...\n"
     ]
    }
   ],
   "source": [
    "coins = ['XMR']\n",
    "merge = False\n",
    "\n",
    "for coin in coins:\n",
    "    symbol = f'{coin}USDT'\n",
    "    interval = client.KLINE_INTERVAL_15MINUTE\n",
    "    start_str = 'Jun 12, 2022'\n",
    "    end_str = 'Jun 14, 2022'\n",
    "     \n",
    "    print(f'gathering {coin}...')    \n",
    "    coin_df = getdata(symbol, interval, start_str, end_str)\n",
    "    \n",
    "    if merge:\n",
    "        df = pd.merge(coin_df, all_coins_df, how='inner',on=['time'])\n",
    "    else:\n",
    "        df = coin_df\n",
    "        merge = True\n",
    "    \n",
    "    time.sleep(0.5)        "
   ]
  },
  {
   "cell_type": "code",
   "execution_count": 508,
   "id": "68c1089b",
   "metadata": {},
   "outputs": [],
   "source": [
    "df['time'] = [datetime.fromtimestamp(ts / 1000) for ts in df['time']]"
   ]
  },
  {
   "cell_type": "code",
   "execution_count": 509,
   "id": "22ef6177",
   "metadata": {},
   "outputs": [],
   "source": [
    "for col in df.columns:\n",
    "    if not 'time' in col:\n",
    "        df[col] = df[col].astype(float)"
   ]
  },
  {
   "cell_type": "code",
   "execution_count": 510,
   "id": "cec4ac56",
   "metadata": {},
   "outputs": [
    {
     "data": {
      "text/html": [
       "<div>\n",
       "<style scoped>\n",
       "    .dataframe tbody tr th:only-of-type {\n",
       "        vertical-align: middle;\n",
       "    }\n",
       "\n",
       "    .dataframe tbody tr th {\n",
       "        vertical-align: top;\n",
       "    }\n",
       "\n",
       "    .dataframe thead th {\n",
       "        text-align: right;\n",
       "    }\n",
       "</style>\n",
       "<table border=\"1\" class=\"dataframe\">\n",
       "  <thead>\n",
       "    <tr style=\"text-align: right;\">\n",
       "      <th></th>\n",
       "      <th>time</th>\n",
       "      <th>open</th>\n",
       "      <th>high</th>\n",
       "      <th>low</th>\n",
       "      <th>close</th>\n",
       "      <th>volume</th>\n",
       "    </tr>\n",
       "  </thead>\n",
       "  <tbody>\n",
       "    <tr>\n",
       "      <th>0</th>\n",
       "      <td>2022-06-12 01:00:00</td>\n",
       "      <td>166.7</td>\n",
       "      <td>166.9</td>\n",
       "      <td>165.6</td>\n",
       "      <td>166.4</td>\n",
       "      <td>342.802</td>\n",
       "    </tr>\n",
       "    <tr>\n",
       "      <th>1</th>\n",
       "      <td>2022-06-12 01:15:00</td>\n",
       "      <td>166.4</td>\n",
       "      <td>166.9</td>\n",
       "      <td>166.1</td>\n",
       "      <td>166.7</td>\n",
       "      <td>222.323</td>\n",
       "    </tr>\n",
       "    <tr>\n",
       "      <th>2</th>\n",
       "      <td>2022-06-12 01:30:00</td>\n",
       "      <td>166.7</td>\n",
       "      <td>167.0</td>\n",
       "      <td>166.2</td>\n",
       "      <td>167.0</td>\n",
       "      <td>156.220</td>\n",
       "    </tr>\n",
       "    <tr>\n",
       "      <th>3</th>\n",
       "      <td>2022-06-12 01:45:00</td>\n",
       "      <td>167.0</td>\n",
       "      <td>167.2</td>\n",
       "      <td>166.4</td>\n",
       "      <td>166.9</td>\n",
       "      <td>439.013</td>\n",
       "    </tr>\n",
       "    <tr>\n",
       "      <th>4</th>\n",
       "      <td>2022-06-12 02:00:00</td>\n",
       "      <td>166.8</td>\n",
       "      <td>166.8</td>\n",
       "      <td>165.0</td>\n",
       "      <td>165.1</td>\n",
       "      <td>248.930</td>\n",
       "    </tr>\n",
       "  </tbody>\n",
       "</table>\n",
       "</div>"
      ],
      "text/plain": [
       "                 time   open   high    low  close   volume\n",
       "0 2022-06-12 01:00:00  166.7  166.9  165.6  166.4  342.802\n",
       "1 2022-06-12 01:15:00  166.4  166.9  166.1  166.7  222.323\n",
       "2 2022-06-12 01:30:00  166.7  167.0  166.2  167.0  156.220\n",
       "3 2022-06-12 01:45:00  167.0  167.2  166.4  166.9  439.013\n",
       "4 2022-06-12 02:00:00  166.8  166.8  165.0  165.1  248.930"
      ]
     },
     "execution_count": 510,
     "metadata": {},
     "output_type": "execute_result"
    }
   ],
   "source": [
    "df.head()"
   ]
  },
  {
   "cell_type": "code",
   "execution_count": 511,
   "id": "3013753b",
   "metadata": {},
   "outputs": [],
   "source": [
    "applytechnicals(df)"
   ]
  },
  {
   "cell_type": "code",
   "execution_count": 512,
   "id": "079d9c2f",
   "metadata": {},
   "outputs": [
    {
     "data": {
      "text/plain": [
       "(160, 10)"
      ]
     },
     "execution_count": 512,
     "metadata": {},
     "output_type": "execute_result"
    }
   ],
   "source": [
    "df.shape"
   ]
  },
  {
   "cell_type": "code",
   "execution_count": 513,
   "id": "5099f7bf",
   "metadata": {},
   "outputs": [
    {
     "data": {
      "text/html": [
       "<div>\n",
       "<style scoped>\n",
       "    .dataframe tbody tr th:only-of-type {\n",
       "        vertical-align: middle;\n",
       "    }\n",
       "\n",
       "    .dataframe tbody tr th {\n",
       "        vertical-align: top;\n",
       "    }\n",
       "\n",
       "    .dataframe thead th {\n",
       "        text-align: right;\n",
       "    }\n",
       "</style>\n",
       "<table border=\"1\" class=\"dataframe\">\n",
       "  <thead>\n",
       "    <tr style=\"text-align: right;\">\n",
       "      <th></th>\n",
       "      <th>time</th>\n",
       "      <th>open</th>\n",
       "      <th>high</th>\n",
       "      <th>low</th>\n",
       "      <th>close</th>\n",
       "      <th>volume</th>\n",
       "      <th>%K</th>\n",
       "      <th>%D</th>\n",
       "      <th>rsi</th>\n",
       "      <th>macd</th>\n",
       "    </tr>\n",
       "  </thead>\n",
       "  <tbody>\n",
       "    <tr>\n",
       "      <th>0</th>\n",
       "      <td>2022-06-12 09:15:00</td>\n",
       "      <td>160.4</td>\n",
       "      <td>162.1</td>\n",
       "      <td>160.3</td>\n",
       "      <td>161.8</td>\n",
       "      <td>763.578</td>\n",
       "      <td>92.857143</td>\n",
       "      <td>89.625081</td>\n",
       "      <td>60.868053</td>\n",
       "      <td>0.957672</td>\n",
       "    </tr>\n",
       "    <tr>\n",
       "      <th>1</th>\n",
       "      <td>2022-06-12 09:30:00</td>\n",
       "      <td>161.9</td>\n",
       "      <td>162.6</td>\n",
       "      <td>161.5</td>\n",
       "      <td>161.7</td>\n",
       "      <td>804.178</td>\n",
       "      <td>80.000000</td>\n",
       "      <td>85.311355</td>\n",
       "      <td>60.415652</td>\n",
       "      <td>0.934013</td>\n",
       "    </tr>\n",
       "    <tr>\n",
       "      <th>2</th>\n",
       "      <td>2022-06-12 09:45:00</td>\n",
       "      <td>161.8</td>\n",
       "      <td>162.5</td>\n",
       "      <td>161.3</td>\n",
       "      <td>161.8</td>\n",
       "      <td>966.714</td>\n",
       "      <td>82.222222</td>\n",
       "      <td>85.026455</td>\n",
       "      <td>60.729978</td>\n",
       "      <td>0.882128</td>\n",
       "    </tr>\n",
       "    <tr>\n",
       "      <th>3</th>\n",
       "      <td>2022-06-12 10:00:00</td>\n",
       "      <td>161.9</td>\n",
       "      <td>162.5</td>\n",
       "      <td>161.2</td>\n",
       "      <td>161.8</td>\n",
       "      <td>387.055</td>\n",
       "      <td>82.222222</td>\n",
       "      <td>81.481481</td>\n",
       "      <td>60.729978</td>\n",
       "      <td>0.806878</td>\n",
       "    </tr>\n",
       "    <tr>\n",
       "      <th>4</th>\n",
       "      <td>2022-06-12 10:15:00</td>\n",
       "      <td>161.8</td>\n",
       "      <td>162.5</td>\n",
       "      <td>161.3</td>\n",
       "      <td>161.5</td>\n",
       "      <td>568.563</td>\n",
       "      <td>75.555556</td>\n",
       "      <td>80.000000</td>\n",
       "      <td>59.097248</td>\n",
       "      <td>0.699945</td>\n",
       "    </tr>\n",
       "  </tbody>\n",
       "</table>\n",
       "</div>"
      ],
      "text/plain": [
       "                 time   open   high    low  close   volume         %K  \\\n",
       "0 2022-06-12 09:15:00  160.4  162.1  160.3  161.8  763.578  92.857143   \n",
       "1 2022-06-12 09:30:00  161.9  162.6  161.5  161.7  804.178  80.000000   \n",
       "2 2022-06-12 09:45:00  161.8  162.5  161.3  161.8  966.714  82.222222   \n",
       "3 2022-06-12 10:00:00  161.9  162.5  161.2  161.8  387.055  82.222222   \n",
       "4 2022-06-12 10:15:00  161.8  162.5  161.3  161.5  568.563  75.555556   \n",
       "\n",
       "          %D        rsi      macd  \n",
       "0  89.625081  60.868053  0.957672  \n",
       "1  85.311355  60.415652  0.934013  \n",
       "2  85.026455  60.729978  0.882128  \n",
       "3  81.481481  60.729978  0.806878  \n",
       "4  80.000000  59.097248  0.699945  "
      ]
     },
     "execution_count": 513,
     "metadata": {},
     "output_type": "execute_result"
    }
   ],
   "source": [
    "df.head()"
   ]
  },
  {
   "cell_type": "code",
   "execution_count": 514,
   "id": "e251691e",
   "metadata": {},
   "outputs": [],
   "source": [
    "def pivotid(df1, l, n1, n2): #n1 n2 before and after candle l\n",
    "    if l-n1 < 0 or l+n2 >= len(df1):\n",
    "        return 0\n",
    "    \n",
    "    pividlow=1\n",
    "    pividhigh=1\n",
    "    for i in range(l-n1, l+n2+1):\n",
    "        if(df1.low[l] > df1.low[i]):\n",
    "            pividlow=0\n",
    "        if(df1.high[l] < df1.high[i]):\n",
    "            pividhigh=0\n",
    "    if pividlow and pividhigh:\n",
    "        return 3\n",
    "    elif pividlow:\n",
    "        return 1\n",
    "    elif pividhigh:\n",
    "        return 2\n",
    "    else:\n",
    "        return 0\n",
    "\n",
    "def Kpivotid(df1, l, n1, n2): #n1 n2 before and after candle l\n",
    "    if l-n1 < 0 or l+n2 >= len(df1):\n",
    "        return 0\n",
    "\n",
    "    pividlow=1\n",
    "    pividhigh=1\n",
    "    for i in range(l-n1, l+n2+1):\n",
    "        if(df1['%K'][l] > df1['%K'][i]):\n",
    "            pividlow=0\n",
    "        if(df1['%K'][l] < df1['%K'][i]):\n",
    "            pividhigh=0\n",
    "    if pividlow and pividhigh:\n",
    "        return 3\n",
    "    elif pividlow:\n",
    "        return 1\n",
    "    elif pividhigh:\n",
    "        return 2\n",
    "    else:\n",
    "        return 0 \n"
   ]
  },
  {
   "cell_type": "code",
   "execution_count": 515,
   "id": "599568f8",
   "metadata": {},
   "outputs": [],
   "source": [
    "df['pivot'] = df.apply(lambda x: pivotid(df, x.name,5,5), axis=1)"
   ]
  },
  {
   "cell_type": "code",
   "execution_count": 516,
   "id": "5fe1a7cb",
   "metadata": {},
   "outputs": [],
   "source": [
    "df['Kpivot'] = df.apply(lambda x: Kpivotid(df, x.name, 5, 5), axis=1)"
   ]
  },
  {
   "cell_type": "code",
   "execution_count": 517,
   "id": "0ecadada",
   "metadata": {},
   "outputs": [],
   "source": [
    "def pointpos(x):\n",
    "    if x['pivot']==1:\n",
    "        return x['low']-1e-3\n",
    "    elif x['pivot']==2:\n",
    "        return x['high']+1e-3\n",
    "    else:\n",
    "        return np.nan\n",
    "\n",
    "def Kpointpos(x):\n",
    "    if x['Kpivot']==1:\n",
    "        return x['%K']-1\n",
    "    elif x['Kpivot']==2:\n",
    "        return x['%K']+1\n",
    "    else:\n",
    "        return np.nan\n",
    "\n",
    "df['pointpos'] = df.apply(lambda row: pointpos(row), axis=1)\n",
    "df['Kpointpos'] = df.apply(lambda row: Kpointpos(row), axis=1)"
   ]
  },
  {
   "cell_type": "code",
   "execution_count": 541,
   "id": "dccccb6c",
   "metadata": {},
   "outputs": [
    {
     "data": {
      "application/vnd.plotly.v1+json": {
       "config": {
        "plotlyServerURL": "https://plot.ly"
       },
       "data": [
        {
         "close": [
          161.8,
          161.7,
          161.8,
          161.8,
          161.5,
          160.5,
          159.7,
          158.7,
          161.4,
          160.8,
          160.1,
          161.5,
          160.2,
          163,
          162.7,
          164.3,
          163.7,
          162.8,
          162.4,
          161.3,
          160.3,
          160.4,
          160.6,
          159.1,
          162.5,
          162.5,
          163.7,
          163.3,
          163.7,
          162.6,
          161.4,
          162.4,
          163,
          162.5,
          161.3,
          162.7,
          163.4,
          163.6,
          164.3,
          163.2,
          162.9,
          162.5,
          163.6,
          162.9,
          161.9,
          162.8,
          162.2,
          161.9,
          162,
          163.5,
          162.8,
          163.4,
          162.9,
          162.3,
          163.4,
          162.7,
          161.8,
          159.9,
          160.1,
          161.9
         ],
         "high": [
          162.1,
          162.6,
          162.5,
          162.5,
          162.5,
          161.6,
          160.7,
          160.5,
          161.7,
          161.8,
          160.8,
          161.5,
          161.5,
          163.9,
          164.4,
          164.3,
          164.8,
          164.4,
          163.3,
          162.7,
          161.5,
          160.7,
          161,
          161.3,
          162.5,
          164.1,
          165,
          164.4,
          165,
          164.4,
          162.9,
          162.7,
          163.6,
          163.2,
          162.5,
          163.3,
          163.4,
          163.8,
          164.6,
          164.4,
          163.4,
          163,
          164.4,
          163.9,
          163,
          163.1,
          162.9,
          162.9,
          162.5,
          163.6,
          163.6,
          163.5,
          163.8,
          163,
          163.4,
          163.5,
          163.1,
          161.7,
          160.7,
          162.2
         ],
         "low": [
          160.3,
          161.5,
          161.3,
          161.2,
          161.3,
          160,
          159.6,
          158.7,
          158.6,
          160.7,
          160,
          159.6,
          159.9,
          160.1,
          162.4,
          162.5,
          163.3,
          162.7,
          162.4,
          160.9,
          160.2,
          160.1,
          159.7,
          159.1,
          157,
          162.3,
          162,
          163,
          163.1,
          161.9,
          161,
          161,
          162.2,
          161.8,
          160,
          161.1,
          162.6,
          162.9,
          163.5,
          162.6,
          162.2,
          162.4,
          162.5,
          162.1,
          160.6,
          161.8,
          162.1,
          161.2,
          161.6,
          161.6,
          162.3,
          162.4,
          162.6,
          161.8,
          162,
          161.6,
          161.4,
          159.4,
          159.5,
          160
         ],
         "open": [
          160.4,
          161.9,
          161.8,
          161.9,
          161.8,
          161.5,
          160.5,
          160,
          158.9,
          161.5,
          160.7,
          160.2,
          161.5,
          160.1,
          163.2,
          162.6,
          164.4,
          163.8,
          162.7,
          162.3,
          161.5,
          160.3,
          160.5,
          160.6,
          159.1,
          162.5,
          162.4,
          164,
          163.4,
          163.7,
          162.9,
          161.3,
          162.3,
          162.9,
          162.4,
          161.1,
          162.9,
          163.3,
          163.5,
          164.3,
          163.2,
          162.8,
          162.5,
          163.6,
          163,
          162,
          162.8,
          162.1,
          161.9,
          162.1,
          163.4,
          162.6,
          163.4,
          162.9,
          162.3,
          163.5,
          162.8,
          161.5,
          159.9,
          160.2
         ],
         "type": "candlestick",
         "x": [
          0,
          1,
          2,
          3,
          4,
          5,
          6,
          7,
          8,
          9,
          10,
          11,
          12,
          13,
          14,
          15,
          16,
          17,
          18,
          19,
          20,
          21,
          22,
          23,
          24,
          25,
          26,
          27,
          28,
          29,
          30,
          31,
          32,
          33,
          34,
          35,
          36,
          37,
          38,
          39,
          40,
          41,
          42,
          43,
          44,
          45,
          46,
          47,
          48,
          49,
          50,
          51,
          52,
          53,
          54,
          55,
          56,
          57,
          58,
          59
         ],
         "xaxis": "x",
         "yaxis": "y"
        },
        {
         "marker": {
          "color": "MediumPurple",
          "size": 10
         },
         "mode": "markers",
         "name": "pivot",
         "type": "scatter",
         "x": [
          0,
          1,
          2,
          3,
          4,
          5,
          6,
          7,
          8,
          9,
          10,
          11,
          12,
          13,
          14,
          15,
          16,
          17,
          18,
          19,
          20,
          21,
          22,
          23,
          24,
          25,
          26,
          27,
          28,
          29,
          30,
          31,
          32,
          33,
          34,
          35,
          36,
          37,
          38,
          39,
          40,
          41,
          42,
          43,
          44,
          45,
          46,
          47,
          48,
          49,
          50,
          51,
          52,
          53,
          54,
          55,
          56,
          57,
          58,
          59
         ],
         "xaxis": "x",
         "y": [
          null,
          null,
          null,
          null,
          null,
          null,
          null,
          null,
          158.599,
          null,
          null,
          null,
          null,
          null,
          null,
          null,
          164.80100000000002,
          null,
          null,
          null,
          null,
          null,
          null,
          null,
          156.999,
          null,
          165.001,
          null,
          165.001,
          null,
          null,
          null,
          null,
          null,
          159.999,
          null,
          null,
          null,
          164.601,
          null,
          null,
          null,
          null,
          null,
          160.599,
          null,
          null,
          null,
          null,
          null,
          null,
          null,
          163.80100000000002,
          null,
          null,
          null,
          null,
          null,
          null,
          null
         ],
         "yaxis": "y"
        },
        {
         "line": {
          "color": "Red"
         },
         "type": "scatter",
         "x": [
          0,
          1,
          2,
          3,
          4,
          5,
          6,
          7,
          8,
          9,
          10,
          11,
          12,
          13,
          14,
          15,
          16,
          17,
          18,
          19,
          20,
          21,
          22,
          23,
          24,
          25,
          26,
          27,
          28,
          29,
          30,
          31,
          32,
          33,
          34,
          35,
          36,
          37,
          38,
          39,
          40,
          41,
          42,
          43,
          44,
          45,
          46,
          47,
          48,
          49,
          50,
          51,
          52,
          53,
          54,
          55,
          56,
          57,
          58,
          59
         ],
         "xaxis": "x2",
         "y": [
          92.85714285714324,
          79.99999999999987,
          82.2222222222226,
          82.2222222222226,
          75.55555555555569,
          53.33333333333346,
          3.333333333333144,
          0,
          70.00000000000028,
          56.410256410256764,
          38.4615384615384,
          74.3589743589744,
          49.99999999999956,
          83.01886792452824,
          70.68965517241355,
          98.27586206896562,
          78.84615384615348,
          61.53846153846167,
          53.84615384615389,
          28.571428571428655,
          4.255319148936517,
          6.382978723404474,
          17.647058823529445,
          0,
          74.32432432432427,
          77.46478873239442,
          83.74999999999986,
          78.75000000000014,
          83.74999999999986,
          69.99999999999993,
          55.00000000000007,
          67.50000000000007,
          50,
          37.5,
          26.000000000000227,
          53.99999999999977,
          77.27272727272731,
          94.73684210526272,
          93.47826086956557,
          69.56521739130419,
          63.04347826086977,
          54.34782608695659,
          71.42857142857143,
          32.000000000000455,
          32.500000000000284,
          55.000000000000426,
          42.10526315789446,
          34.21052631578967,
          36.84210526315793,
          76.31578947368413,
          66.66666666666696,
          93.33333333333371,
          65.38461538461547,
          42.30769230769281,
          84.61538461538453,
          49.99999999999935,
          16.666666666666863,
          11.363636363636349,
          15.90909090909063,
          56.81818181818174
         ],
         "yaxis": "y2"
        },
        {
         "line": {
          "color": "Green"
         },
         "type": "scatter",
         "x": [
          0,
          1,
          2,
          3,
          4,
          5,
          6,
          7,
          8,
          9,
          10,
          11,
          12,
          13,
          14,
          15,
          16,
          17,
          18,
          19,
          20,
          21,
          22,
          23,
          24,
          25,
          26,
          27,
          28,
          29,
          30,
          31,
          32,
          33,
          34,
          35,
          36,
          37,
          38,
          39,
          40,
          41,
          42,
          43,
          44,
          45,
          46,
          47,
          48,
          49,
          50,
          51,
          52,
          53,
          54,
          55,
          56,
          57,
          58,
          59
         ],
         "xaxis": "x2",
         "y": [
          89.62508080155158,
          85.31135531135543,
          85.02645502645524,
          81.48148148148168,
          80.0000000000003,
          70.37037037037058,
          44.0740740740741,
          18.888888888888868,
          24.444444444444475,
          42.13675213675235,
          54.95726495726515,
          56.41025641025652,
          54.27350427350412,
          69.12594742783408,
          67.90284103231379,
          83.99479505530248,
          82.60389036251088,
          79.55349248452693,
          64.74358974358968,
          47.98534798534808,
          28.890967188839696,
          13.069908814589887,
          9.428452231956816,
          8.010012515644645,
          30.657127715951244,
          50.59637101890623,
          78.51303768557285,
          79.98826291079814,
          82.0833333333333,
          77.49999999999999,
          69.5833333333333,
          64.1666666666667,
          57.50000000000006,
          51.66666666666669,
          37.833333333333414,
          39.16666666666667,
          52.424242424242436,
          75.3365231259966,
          88.49594341585187,
          85.9267734553775,
          75.36231884057985,
          62.31884057971019,
          62.9399585921326,
          52.59213250517616,
          45.30952380952406,
          39.83333333333372,
          43.20175438596505,
          43.77192982456152,
          37.71929824561402,
          49.12280701754391,
          59.94152046783634,
          78.7719298245616,
          75.12820512820538,
          67.00854700854732,
          64.10256410256427,
          58.97435897435889,
          50.427350427350255,
          26.010101010100854,
          14.646464646464613,
          28.030303030302907
         ],
         "yaxis": "y2"
        },
        {
         "marker": {
          "color": "MediumPurple",
          "size": 10
         },
         "mode": "markers",
         "name": "pivot",
         "type": "scatter",
         "x": [
          0,
          1,
          2,
          3,
          4,
          5,
          6,
          7,
          8,
          9,
          10,
          11,
          12,
          13,
          14,
          15,
          16,
          17,
          18,
          19,
          20,
          21,
          22,
          23,
          24,
          25,
          26,
          27,
          28,
          29,
          30,
          31,
          32,
          33,
          34,
          35,
          36,
          37,
          38,
          39,
          40,
          41,
          42,
          43,
          44,
          45,
          46,
          47,
          48,
          49,
          50,
          51,
          52,
          53,
          54,
          55,
          56,
          57,
          58,
          59
         ],
         "xaxis": "x2",
         "y": [
          null,
          null,
          null,
          null,
          null,
          null,
          null,
          -1,
          null,
          null,
          null,
          null,
          null,
          null,
          null,
          99.27586206896562,
          null,
          null,
          null,
          null,
          null,
          null,
          null,
          -1,
          null,
          null,
          84.74999999999986,
          null,
          84.74999999999986,
          null,
          null,
          null,
          null,
          null,
          25.000000000000227,
          null,
          null,
          95.73684210526272,
          null,
          null,
          null,
          null,
          null,
          31.000000000000455,
          null,
          null,
          null,
          null,
          null,
          null,
          null,
          94.33333333333371,
          null,
          null,
          null,
          null,
          null,
          null,
          null,
          null
         ],
         "yaxis": "y2"
        }
       ],
       "layout": {
        "template": {
         "data": {
          "bar": [
           {
            "error_x": {
             "color": "#2a3f5f"
            },
            "error_y": {
             "color": "#2a3f5f"
            },
            "marker": {
             "line": {
              "color": "#E5ECF6",
              "width": 0.5
             },
             "pattern": {
              "fillmode": "overlay",
              "size": 10,
              "solidity": 0.2
             }
            },
            "type": "bar"
           }
          ],
          "barpolar": [
           {
            "marker": {
             "line": {
              "color": "#E5ECF6",
              "width": 0.5
             },
             "pattern": {
              "fillmode": "overlay",
              "size": 10,
              "solidity": 0.2
             }
            },
            "type": "barpolar"
           }
          ],
          "carpet": [
           {
            "aaxis": {
             "endlinecolor": "#2a3f5f",
             "gridcolor": "white",
             "linecolor": "white",
             "minorgridcolor": "white",
             "startlinecolor": "#2a3f5f"
            },
            "baxis": {
             "endlinecolor": "#2a3f5f",
             "gridcolor": "white",
             "linecolor": "white",
             "minorgridcolor": "white",
             "startlinecolor": "#2a3f5f"
            },
            "type": "carpet"
           }
          ],
          "choropleth": [
           {
            "colorbar": {
             "outlinewidth": 0,
             "ticks": ""
            },
            "type": "choropleth"
           }
          ],
          "contour": [
           {
            "colorbar": {
             "outlinewidth": 0,
             "ticks": ""
            },
            "colorscale": [
             [
              0,
              "#0d0887"
             ],
             [
              0.1111111111111111,
              "#46039f"
             ],
             [
              0.2222222222222222,
              "#7201a8"
             ],
             [
              0.3333333333333333,
              "#9c179e"
             ],
             [
              0.4444444444444444,
              "#bd3786"
             ],
             [
              0.5555555555555556,
              "#d8576b"
             ],
             [
              0.6666666666666666,
              "#ed7953"
             ],
             [
              0.7777777777777778,
              "#fb9f3a"
             ],
             [
              0.8888888888888888,
              "#fdca26"
             ],
             [
              1,
              "#f0f921"
             ]
            ],
            "type": "contour"
           }
          ],
          "contourcarpet": [
           {
            "colorbar": {
             "outlinewidth": 0,
             "ticks": ""
            },
            "type": "contourcarpet"
           }
          ],
          "heatmap": [
           {
            "colorbar": {
             "outlinewidth": 0,
             "ticks": ""
            },
            "colorscale": [
             [
              0,
              "#0d0887"
             ],
             [
              0.1111111111111111,
              "#46039f"
             ],
             [
              0.2222222222222222,
              "#7201a8"
             ],
             [
              0.3333333333333333,
              "#9c179e"
             ],
             [
              0.4444444444444444,
              "#bd3786"
             ],
             [
              0.5555555555555556,
              "#d8576b"
             ],
             [
              0.6666666666666666,
              "#ed7953"
             ],
             [
              0.7777777777777778,
              "#fb9f3a"
             ],
             [
              0.8888888888888888,
              "#fdca26"
             ],
             [
              1,
              "#f0f921"
             ]
            ],
            "type": "heatmap"
           }
          ],
          "heatmapgl": [
           {
            "colorbar": {
             "outlinewidth": 0,
             "ticks": ""
            },
            "colorscale": [
             [
              0,
              "#0d0887"
             ],
             [
              0.1111111111111111,
              "#46039f"
             ],
             [
              0.2222222222222222,
              "#7201a8"
             ],
             [
              0.3333333333333333,
              "#9c179e"
             ],
             [
              0.4444444444444444,
              "#bd3786"
             ],
             [
              0.5555555555555556,
              "#d8576b"
             ],
             [
              0.6666666666666666,
              "#ed7953"
             ],
             [
              0.7777777777777778,
              "#fb9f3a"
             ],
             [
              0.8888888888888888,
              "#fdca26"
             ],
             [
              1,
              "#f0f921"
             ]
            ],
            "type": "heatmapgl"
           }
          ],
          "histogram": [
           {
            "marker": {
             "pattern": {
              "fillmode": "overlay",
              "size": 10,
              "solidity": 0.2
             }
            },
            "type": "histogram"
           }
          ],
          "histogram2d": [
           {
            "colorbar": {
             "outlinewidth": 0,
             "ticks": ""
            },
            "colorscale": [
             [
              0,
              "#0d0887"
             ],
             [
              0.1111111111111111,
              "#46039f"
             ],
             [
              0.2222222222222222,
              "#7201a8"
             ],
             [
              0.3333333333333333,
              "#9c179e"
             ],
             [
              0.4444444444444444,
              "#bd3786"
             ],
             [
              0.5555555555555556,
              "#d8576b"
             ],
             [
              0.6666666666666666,
              "#ed7953"
             ],
             [
              0.7777777777777778,
              "#fb9f3a"
             ],
             [
              0.8888888888888888,
              "#fdca26"
             ],
             [
              1,
              "#f0f921"
             ]
            ],
            "type": "histogram2d"
           }
          ],
          "histogram2dcontour": [
           {
            "colorbar": {
             "outlinewidth": 0,
             "ticks": ""
            },
            "colorscale": [
             [
              0,
              "#0d0887"
             ],
             [
              0.1111111111111111,
              "#46039f"
             ],
             [
              0.2222222222222222,
              "#7201a8"
             ],
             [
              0.3333333333333333,
              "#9c179e"
             ],
             [
              0.4444444444444444,
              "#bd3786"
             ],
             [
              0.5555555555555556,
              "#d8576b"
             ],
             [
              0.6666666666666666,
              "#ed7953"
             ],
             [
              0.7777777777777778,
              "#fb9f3a"
             ],
             [
              0.8888888888888888,
              "#fdca26"
             ],
             [
              1,
              "#f0f921"
             ]
            ],
            "type": "histogram2dcontour"
           }
          ],
          "mesh3d": [
           {
            "colorbar": {
             "outlinewidth": 0,
             "ticks": ""
            },
            "type": "mesh3d"
           }
          ],
          "parcoords": [
           {
            "line": {
             "colorbar": {
              "outlinewidth": 0,
              "ticks": ""
             }
            },
            "type": "parcoords"
           }
          ],
          "pie": [
           {
            "automargin": true,
            "type": "pie"
           }
          ],
          "scatter": [
           {
            "fillpattern": {
             "fillmode": "overlay",
             "size": 10,
             "solidity": 0.2
            },
            "type": "scatter"
           }
          ],
          "scatter3d": [
           {
            "line": {
             "colorbar": {
              "outlinewidth": 0,
              "ticks": ""
             }
            },
            "marker": {
             "colorbar": {
              "outlinewidth": 0,
              "ticks": ""
             }
            },
            "type": "scatter3d"
           }
          ],
          "scattercarpet": [
           {
            "marker": {
             "colorbar": {
              "outlinewidth": 0,
              "ticks": ""
             }
            },
            "type": "scattercarpet"
           }
          ],
          "scattergeo": [
           {
            "marker": {
             "colorbar": {
              "outlinewidth": 0,
              "ticks": ""
             }
            },
            "type": "scattergeo"
           }
          ],
          "scattergl": [
           {
            "marker": {
             "colorbar": {
              "outlinewidth": 0,
              "ticks": ""
             }
            },
            "type": "scattergl"
           }
          ],
          "scattermapbox": [
           {
            "marker": {
             "colorbar": {
              "outlinewidth": 0,
              "ticks": ""
             }
            },
            "type": "scattermapbox"
           }
          ],
          "scatterpolar": [
           {
            "marker": {
             "colorbar": {
              "outlinewidth": 0,
              "ticks": ""
             }
            },
            "type": "scatterpolar"
           }
          ],
          "scatterpolargl": [
           {
            "marker": {
             "colorbar": {
              "outlinewidth": 0,
              "ticks": ""
             }
            },
            "type": "scatterpolargl"
           }
          ],
          "scatterternary": [
           {
            "marker": {
             "colorbar": {
              "outlinewidth": 0,
              "ticks": ""
             }
            },
            "type": "scatterternary"
           }
          ],
          "surface": [
           {
            "colorbar": {
             "outlinewidth": 0,
             "ticks": ""
            },
            "colorscale": [
             [
              0,
              "#0d0887"
             ],
             [
              0.1111111111111111,
              "#46039f"
             ],
             [
              0.2222222222222222,
              "#7201a8"
             ],
             [
              0.3333333333333333,
              "#9c179e"
             ],
             [
              0.4444444444444444,
              "#bd3786"
             ],
             [
              0.5555555555555556,
              "#d8576b"
             ],
             [
              0.6666666666666666,
              "#ed7953"
             ],
             [
              0.7777777777777778,
              "#fb9f3a"
             ],
             [
              0.8888888888888888,
              "#fdca26"
             ],
             [
              1,
              "#f0f921"
             ]
            ],
            "type": "surface"
           }
          ],
          "table": [
           {
            "cells": {
             "fill": {
              "color": "#EBF0F8"
             },
             "line": {
              "color": "white"
             }
            },
            "header": {
             "fill": {
              "color": "#C8D4E3"
             },
             "line": {
              "color": "white"
             }
            },
            "type": "table"
           }
          ]
         },
         "layout": {
          "annotationdefaults": {
           "arrowcolor": "#2a3f5f",
           "arrowhead": 0,
           "arrowwidth": 1
          },
          "autotypenumbers": "strict",
          "coloraxis": {
           "colorbar": {
            "outlinewidth": 0,
            "ticks": ""
           }
          },
          "colorscale": {
           "diverging": [
            [
             0,
             "#8e0152"
            ],
            [
             0.1,
             "#c51b7d"
            ],
            [
             0.2,
             "#de77ae"
            ],
            [
             0.3,
             "#f1b6da"
            ],
            [
             0.4,
             "#fde0ef"
            ],
            [
             0.5,
             "#f7f7f7"
            ],
            [
             0.6,
             "#e6f5d0"
            ],
            [
             0.7,
             "#b8e186"
            ],
            [
             0.8,
             "#7fbc41"
            ],
            [
             0.9,
             "#4d9221"
            ],
            [
             1,
             "#276419"
            ]
           ],
           "sequential": [
            [
             0,
             "#0d0887"
            ],
            [
             0.1111111111111111,
             "#46039f"
            ],
            [
             0.2222222222222222,
             "#7201a8"
            ],
            [
             0.3333333333333333,
             "#9c179e"
            ],
            [
             0.4444444444444444,
             "#bd3786"
            ],
            [
             0.5555555555555556,
             "#d8576b"
            ],
            [
             0.6666666666666666,
             "#ed7953"
            ],
            [
             0.7777777777777778,
             "#fb9f3a"
            ],
            [
             0.8888888888888888,
             "#fdca26"
            ],
            [
             1,
             "#f0f921"
            ]
           ],
           "sequentialminus": [
            [
             0,
             "#0d0887"
            ],
            [
             0.1111111111111111,
             "#46039f"
            ],
            [
             0.2222222222222222,
             "#7201a8"
            ],
            [
             0.3333333333333333,
             "#9c179e"
            ],
            [
             0.4444444444444444,
             "#bd3786"
            ],
            [
             0.5555555555555556,
             "#d8576b"
            ],
            [
             0.6666666666666666,
             "#ed7953"
            ],
            [
             0.7777777777777778,
             "#fb9f3a"
            ],
            [
             0.8888888888888888,
             "#fdca26"
            ],
            [
             1,
             "#f0f921"
            ]
           ]
          },
          "colorway": [
           "#636efa",
           "#EF553B",
           "#00cc96",
           "#ab63fa",
           "#FFA15A",
           "#19d3f3",
           "#FF6692",
           "#B6E880",
           "#FF97FF",
           "#FECB52"
          ],
          "font": {
           "color": "#2a3f5f"
          },
          "geo": {
           "bgcolor": "white",
           "lakecolor": "white",
           "landcolor": "#E5ECF6",
           "showlakes": true,
           "showland": true,
           "subunitcolor": "white"
          },
          "hoverlabel": {
           "align": "left"
          },
          "hovermode": "closest",
          "mapbox": {
           "style": "light"
          },
          "paper_bgcolor": "white",
          "plot_bgcolor": "#E5ECF6",
          "polar": {
           "angularaxis": {
            "gridcolor": "white",
            "linecolor": "white",
            "ticks": ""
           },
           "bgcolor": "#E5ECF6",
           "radialaxis": {
            "gridcolor": "white",
            "linecolor": "white",
            "ticks": ""
           }
          },
          "scene": {
           "xaxis": {
            "backgroundcolor": "#E5ECF6",
            "gridcolor": "white",
            "gridwidth": 2,
            "linecolor": "white",
            "showbackground": true,
            "ticks": "",
            "zerolinecolor": "white"
           },
           "yaxis": {
            "backgroundcolor": "#E5ECF6",
            "gridcolor": "white",
            "gridwidth": 2,
            "linecolor": "white",
            "showbackground": true,
            "ticks": "",
            "zerolinecolor": "white"
           },
           "zaxis": {
            "backgroundcolor": "#E5ECF6",
            "gridcolor": "white",
            "gridwidth": 2,
            "linecolor": "white",
            "showbackground": true,
            "ticks": "",
            "zerolinecolor": "white"
           }
          },
          "shapedefaults": {
           "line": {
            "color": "#2a3f5f"
           }
          },
          "ternary": {
           "aaxis": {
            "gridcolor": "white",
            "linecolor": "white",
            "ticks": ""
           },
           "baxis": {
            "gridcolor": "white",
            "linecolor": "white",
            "ticks": ""
           },
           "bgcolor": "#E5ECF6",
           "caxis": {
            "gridcolor": "white",
            "linecolor": "white",
            "ticks": ""
           }
          },
          "title": {
           "x": 0.05
          },
          "xaxis": {
           "automargin": true,
           "gridcolor": "white",
           "linecolor": "white",
           "ticks": "",
           "title": {
            "standoff": 15
           },
           "zerolinecolor": "white",
           "zerolinewidth": 2
          },
          "yaxis": {
           "automargin": true,
           "gridcolor": "white",
           "linecolor": "white",
           "ticks": "",
           "title": {
            "standoff": 15
           },
           "zerolinecolor": "white",
           "zerolinewidth": 2
          }
         }
        },
        "xaxis": {
         "anchor": "y",
         "domain": [
          0,
          1
         ],
         "rangeslider": {
          "visible": false
         }
        },
        "xaxis2": {
         "anchor": "y2",
         "domain": [
          0,
          1
         ]
        },
        "yaxis": {
         "anchor": "x",
         "domain": [
          0.575,
          1
         ]
        },
        "yaxis2": {
         "anchor": "x2",
         "domain": [
          0,
          0.425
         ]
        }
       }
      },
      "text/html": [
       "<div>                            <div id=\"1dbb0ffe-ab8d-45dd-82c2-9545d73501d6\" class=\"plotly-graph-div\" style=\"height:525px; width:100%;\"></div>            <script type=\"text/javascript\">                require([\"plotly\"], function(Plotly) {                    window.PLOTLYENV=window.PLOTLYENV || {};                                    if (document.getElementById(\"1dbb0ffe-ab8d-45dd-82c2-9545d73501d6\")) {                    Plotly.newPlot(                        \"1dbb0ffe-ab8d-45dd-82c2-9545d73501d6\",                        [{\"close\":[161.8,161.7,161.8,161.8,161.5,160.5,159.7,158.7,161.4,160.8,160.1,161.5,160.2,163.0,162.7,164.3,163.7,162.8,162.4,161.3,160.3,160.4,160.6,159.1,162.5,162.5,163.7,163.3,163.7,162.6,161.4,162.4,163.0,162.5,161.3,162.7,163.4,163.6,164.3,163.2,162.9,162.5,163.6,162.9,161.9,162.8,162.2,161.9,162.0,163.5,162.8,163.4,162.9,162.3,163.4,162.7,161.8,159.9,160.1,161.9],\"high\":[162.1,162.6,162.5,162.5,162.5,161.6,160.7,160.5,161.7,161.8,160.8,161.5,161.5,163.9,164.4,164.3,164.8,164.4,163.3,162.7,161.5,160.7,161.0,161.3,162.5,164.1,165.0,164.4,165.0,164.4,162.9,162.7,163.6,163.2,162.5,163.3,163.4,163.8,164.6,164.4,163.4,163.0,164.4,163.9,163.0,163.1,162.9,162.9,162.5,163.6,163.6,163.5,163.8,163.0,163.4,163.5,163.1,161.7,160.7,162.2],\"low\":[160.3,161.5,161.3,161.2,161.3,160.0,159.6,158.7,158.6,160.7,160.0,159.6,159.9,160.1,162.4,162.5,163.3,162.7,162.4,160.9,160.2,160.1,159.7,159.1,157.0,162.3,162.0,163.0,163.1,161.9,161.0,161.0,162.2,161.8,160.0,161.1,162.6,162.9,163.5,162.6,162.2,162.4,162.5,162.1,160.6,161.8,162.1,161.2,161.6,161.6,162.3,162.4,162.6,161.8,162.0,161.6,161.4,159.4,159.5,160.0],\"open\":[160.4,161.9,161.8,161.9,161.8,161.5,160.5,160.0,158.9,161.5,160.7,160.2,161.5,160.1,163.2,162.6,164.4,163.8,162.7,162.3,161.5,160.3,160.5,160.6,159.1,162.5,162.4,164.0,163.4,163.7,162.9,161.3,162.3,162.9,162.4,161.1,162.9,163.3,163.5,164.3,163.2,162.8,162.5,163.6,163.0,162.0,162.8,162.1,161.9,162.1,163.4,162.6,163.4,162.9,162.3,163.5,162.8,161.5,159.9,160.2],\"x\":[0,1,2,3,4,5,6,7,8,9,10,11,12,13,14,15,16,17,18,19,20,21,22,23,24,25,26,27,28,29,30,31,32,33,34,35,36,37,38,39,40,41,42,43,44,45,46,47,48,49,50,51,52,53,54,55,56,57,58,59],\"type\":\"candlestick\",\"xaxis\":\"x\",\"yaxis\":\"y\"},{\"marker\":{\"color\":\"MediumPurple\",\"size\":10},\"mode\":\"markers\",\"name\":\"pivot\",\"x\":[0,1,2,3,4,5,6,7,8,9,10,11,12,13,14,15,16,17,18,19,20,21,22,23,24,25,26,27,28,29,30,31,32,33,34,35,36,37,38,39,40,41,42,43,44,45,46,47,48,49,50,51,52,53,54,55,56,57,58,59],\"y\":[null,null,null,null,null,null,null,null,158.599,null,null,null,null,null,null,null,164.80100000000002,null,null,null,null,null,null,null,156.999,null,165.001,null,165.001,null,null,null,null,null,159.999,null,null,null,164.601,null,null,null,null,null,160.599,null,null,null,null,null,null,null,163.80100000000002,null,null,null,null,null,null,null],\"type\":\"scatter\",\"xaxis\":\"x\",\"yaxis\":\"y\"},{\"line\":{\"color\":\"Red\"},\"x\":[0,1,2,3,4,5,6,7,8,9,10,11,12,13,14,15,16,17,18,19,20,21,22,23,24,25,26,27,28,29,30,31,32,33,34,35,36,37,38,39,40,41,42,43,44,45,46,47,48,49,50,51,52,53,54,55,56,57,58,59],\"y\":[92.85714285714324,79.99999999999987,82.2222222222226,82.2222222222226,75.55555555555569,53.33333333333346,3.333333333333144,0.0,70.00000000000028,56.410256410256764,38.4615384615384,74.3589743589744,49.99999999999956,83.01886792452824,70.68965517241355,98.27586206896562,78.84615384615348,61.53846153846167,53.84615384615389,28.571428571428655,4.255319148936517,6.382978723404474,17.647058823529445,0.0,74.32432432432427,77.46478873239442,83.74999999999986,78.75000000000014,83.74999999999986,69.99999999999993,55.00000000000007,67.50000000000007,50.0,37.5,26.000000000000227,53.99999999999977,77.27272727272731,94.73684210526272,93.47826086956557,69.56521739130419,63.04347826086977,54.34782608695659,71.42857142857143,32.000000000000455,32.500000000000284,55.000000000000426,42.10526315789446,34.21052631578967,36.84210526315793,76.31578947368413,66.66666666666696,93.33333333333371,65.38461538461547,42.30769230769281,84.61538461538453,49.99999999999935,16.666666666666863,11.363636363636349,15.90909090909063,56.81818181818174],\"type\":\"scatter\",\"xaxis\":\"x2\",\"yaxis\":\"y2\"},{\"line\":{\"color\":\"Green\"},\"x\":[0,1,2,3,4,5,6,7,8,9,10,11,12,13,14,15,16,17,18,19,20,21,22,23,24,25,26,27,28,29,30,31,32,33,34,35,36,37,38,39,40,41,42,43,44,45,46,47,48,49,50,51,52,53,54,55,56,57,58,59],\"y\":[89.62508080155158,85.31135531135543,85.02645502645524,81.48148148148168,80.0000000000003,70.37037037037058,44.0740740740741,18.888888888888868,24.444444444444475,42.13675213675235,54.95726495726515,56.41025641025652,54.27350427350412,69.12594742783408,67.90284103231379,83.99479505530248,82.60389036251088,79.55349248452693,64.74358974358968,47.98534798534808,28.890967188839696,13.069908814589887,9.428452231956816,8.010012515644645,30.657127715951244,50.59637101890623,78.51303768557285,79.98826291079814,82.0833333333333,77.49999999999999,69.5833333333333,64.1666666666667,57.50000000000006,51.66666666666669,37.833333333333414,39.16666666666667,52.424242424242436,75.3365231259966,88.49594341585187,85.9267734553775,75.36231884057985,62.31884057971019,62.9399585921326,52.59213250517616,45.30952380952406,39.83333333333372,43.20175438596505,43.77192982456152,37.71929824561402,49.12280701754391,59.94152046783634,78.7719298245616,75.12820512820538,67.00854700854732,64.10256410256427,58.97435897435889,50.427350427350255,26.010101010100854,14.646464646464613,28.030303030302907],\"type\":\"scatter\",\"xaxis\":\"x2\",\"yaxis\":\"y2\"},{\"marker\":{\"color\":\"MediumPurple\",\"size\":10},\"mode\":\"markers\",\"name\":\"pivot\",\"x\":[0,1,2,3,4,5,6,7,8,9,10,11,12,13,14,15,16,17,18,19,20,21,22,23,24,25,26,27,28,29,30,31,32,33,34,35,36,37,38,39,40,41,42,43,44,45,46,47,48,49,50,51,52,53,54,55,56,57,58,59],\"y\":[null,null,null,null,null,null,null,-1.0,null,null,null,null,null,null,null,99.27586206896562,null,null,null,null,null,null,null,-1.0,null,null,84.74999999999986,null,84.74999999999986,null,null,null,null,null,25.000000000000227,null,null,95.73684210526272,null,null,null,null,null,31.000000000000455,null,null,null,null,null,null,null,94.33333333333371,null,null,null,null,null,null,null,null],\"type\":\"scatter\",\"xaxis\":\"x2\",\"yaxis\":\"y2\"}],                        {\"template\":{\"data\":{\"histogram2dcontour\":[{\"type\":\"histogram2dcontour\",\"colorbar\":{\"outlinewidth\":0,\"ticks\":\"\"},\"colorscale\":[[0.0,\"#0d0887\"],[0.1111111111111111,\"#46039f\"],[0.2222222222222222,\"#7201a8\"],[0.3333333333333333,\"#9c179e\"],[0.4444444444444444,\"#bd3786\"],[0.5555555555555556,\"#d8576b\"],[0.6666666666666666,\"#ed7953\"],[0.7777777777777778,\"#fb9f3a\"],[0.8888888888888888,\"#fdca26\"],[1.0,\"#f0f921\"]]}],\"choropleth\":[{\"type\":\"choropleth\",\"colorbar\":{\"outlinewidth\":0,\"ticks\":\"\"}}],\"histogram2d\":[{\"type\":\"histogram2d\",\"colorbar\":{\"outlinewidth\":0,\"ticks\":\"\"},\"colorscale\":[[0.0,\"#0d0887\"],[0.1111111111111111,\"#46039f\"],[0.2222222222222222,\"#7201a8\"],[0.3333333333333333,\"#9c179e\"],[0.4444444444444444,\"#bd3786\"],[0.5555555555555556,\"#d8576b\"],[0.6666666666666666,\"#ed7953\"],[0.7777777777777778,\"#fb9f3a\"],[0.8888888888888888,\"#fdca26\"],[1.0,\"#f0f921\"]]}],\"heatmap\":[{\"type\":\"heatmap\",\"colorbar\":{\"outlinewidth\":0,\"ticks\":\"\"},\"colorscale\":[[0.0,\"#0d0887\"],[0.1111111111111111,\"#46039f\"],[0.2222222222222222,\"#7201a8\"],[0.3333333333333333,\"#9c179e\"],[0.4444444444444444,\"#bd3786\"],[0.5555555555555556,\"#d8576b\"],[0.6666666666666666,\"#ed7953\"],[0.7777777777777778,\"#fb9f3a\"],[0.8888888888888888,\"#fdca26\"],[1.0,\"#f0f921\"]]}],\"heatmapgl\":[{\"type\":\"heatmapgl\",\"colorbar\":{\"outlinewidth\":0,\"ticks\":\"\"},\"colorscale\":[[0.0,\"#0d0887\"],[0.1111111111111111,\"#46039f\"],[0.2222222222222222,\"#7201a8\"],[0.3333333333333333,\"#9c179e\"],[0.4444444444444444,\"#bd3786\"],[0.5555555555555556,\"#d8576b\"],[0.6666666666666666,\"#ed7953\"],[0.7777777777777778,\"#fb9f3a\"],[0.8888888888888888,\"#fdca26\"],[1.0,\"#f0f921\"]]}],\"contourcarpet\":[{\"type\":\"contourcarpet\",\"colorbar\":{\"outlinewidth\":0,\"ticks\":\"\"}}],\"contour\":[{\"type\":\"contour\",\"colorbar\":{\"outlinewidth\":0,\"ticks\":\"\"},\"colorscale\":[[0.0,\"#0d0887\"],[0.1111111111111111,\"#46039f\"],[0.2222222222222222,\"#7201a8\"],[0.3333333333333333,\"#9c179e\"],[0.4444444444444444,\"#bd3786\"],[0.5555555555555556,\"#d8576b\"],[0.6666666666666666,\"#ed7953\"],[0.7777777777777778,\"#fb9f3a\"],[0.8888888888888888,\"#fdca26\"],[1.0,\"#f0f921\"]]}],\"surface\":[{\"type\":\"surface\",\"colorbar\":{\"outlinewidth\":0,\"ticks\":\"\"},\"colorscale\":[[0.0,\"#0d0887\"],[0.1111111111111111,\"#46039f\"],[0.2222222222222222,\"#7201a8\"],[0.3333333333333333,\"#9c179e\"],[0.4444444444444444,\"#bd3786\"],[0.5555555555555556,\"#d8576b\"],[0.6666666666666666,\"#ed7953\"],[0.7777777777777778,\"#fb9f3a\"],[0.8888888888888888,\"#fdca26\"],[1.0,\"#f0f921\"]]}],\"mesh3d\":[{\"type\":\"mesh3d\",\"colorbar\":{\"outlinewidth\":0,\"ticks\":\"\"}}],\"scatter\":[{\"fillpattern\":{\"fillmode\":\"overlay\",\"size\":10,\"solidity\":0.2},\"type\":\"scatter\"}],\"parcoords\":[{\"type\":\"parcoords\",\"line\":{\"colorbar\":{\"outlinewidth\":0,\"ticks\":\"\"}}}],\"scatterpolargl\":[{\"type\":\"scatterpolargl\",\"marker\":{\"colorbar\":{\"outlinewidth\":0,\"ticks\":\"\"}}}],\"bar\":[{\"error_x\":{\"color\":\"#2a3f5f\"},\"error_y\":{\"color\":\"#2a3f5f\"},\"marker\":{\"line\":{\"color\":\"#E5ECF6\",\"width\":0.5},\"pattern\":{\"fillmode\":\"overlay\",\"size\":10,\"solidity\":0.2}},\"type\":\"bar\"}],\"scattergeo\":[{\"type\":\"scattergeo\",\"marker\":{\"colorbar\":{\"outlinewidth\":0,\"ticks\":\"\"}}}],\"scatterpolar\":[{\"type\":\"scatterpolar\",\"marker\":{\"colorbar\":{\"outlinewidth\":0,\"ticks\":\"\"}}}],\"histogram\":[{\"marker\":{\"pattern\":{\"fillmode\":\"overlay\",\"size\":10,\"solidity\":0.2}},\"type\":\"histogram\"}],\"scattergl\":[{\"type\":\"scattergl\",\"marker\":{\"colorbar\":{\"outlinewidth\":0,\"ticks\":\"\"}}}],\"scatter3d\":[{\"type\":\"scatter3d\",\"line\":{\"colorbar\":{\"outlinewidth\":0,\"ticks\":\"\"}},\"marker\":{\"colorbar\":{\"outlinewidth\":0,\"ticks\":\"\"}}}],\"scattermapbox\":[{\"type\":\"scattermapbox\",\"marker\":{\"colorbar\":{\"outlinewidth\":0,\"ticks\":\"\"}}}],\"scatterternary\":[{\"type\":\"scatterternary\",\"marker\":{\"colorbar\":{\"outlinewidth\":0,\"ticks\":\"\"}}}],\"scattercarpet\":[{\"type\":\"scattercarpet\",\"marker\":{\"colorbar\":{\"outlinewidth\":0,\"ticks\":\"\"}}}],\"carpet\":[{\"aaxis\":{\"endlinecolor\":\"#2a3f5f\",\"gridcolor\":\"white\",\"linecolor\":\"white\",\"minorgridcolor\":\"white\",\"startlinecolor\":\"#2a3f5f\"},\"baxis\":{\"endlinecolor\":\"#2a3f5f\",\"gridcolor\":\"white\",\"linecolor\":\"white\",\"minorgridcolor\":\"white\",\"startlinecolor\":\"#2a3f5f\"},\"type\":\"carpet\"}],\"table\":[{\"cells\":{\"fill\":{\"color\":\"#EBF0F8\"},\"line\":{\"color\":\"white\"}},\"header\":{\"fill\":{\"color\":\"#C8D4E3\"},\"line\":{\"color\":\"white\"}},\"type\":\"table\"}],\"barpolar\":[{\"marker\":{\"line\":{\"color\":\"#E5ECF6\",\"width\":0.5},\"pattern\":{\"fillmode\":\"overlay\",\"size\":10,\"solidity\":0.2}},\"type\":\"barpolar\"}],\"pie\":[{\"automargin\":true,\"type\":\"pie\"}]},\"layout\":{\"autotypenumbers\":\"strict\",\"colorway\":[\"#636efa\",\"#EF553B\",\"#00cc96\",\"#ab63fa\",\"#FFA15A\",\"#19d3f3\",\"#FF6692\",\"#B6E880\",\"#FF97FF\",\"#FECB52\"],\"font\":{\"color\":\"#2a3f5f\"},\"hovermode\":\"closest\",\"hoverlabel\":{\"align\":\"left\"},\"paper_bgcolor\":\"white\",\"plot_bgcolor\":\"#E5ECF6\",\"polar\":{\"bgcolor\":\"#E5ECF6\",\"angularaxis\":{\"gridcolor\":\"white\",\"linecolor\":\"white\",\"ticks\":\"\"},\"radialaxis\":{\"gridcolor\":\"white\",\"linecolor\":\"white\",\"ticks\":\"\"}},\"ternary\":{\"bgcolor\":\"#E5ECF6\",\"aaxis\":{\"gridcolor\":\"white\",\"linecolor\":\"white\",\"ticks\":\"\"},\"baxis\":{\"gridcolor\":\"white\",\"linecolor\":\"white\",\"ticks\":\"\"},\"caxis\":{\"gridcolor\":\"white\",\"linecolor\":\"white\",\"ticks\":\"\"}},\"coloraxis\":{\"colorbar\":{\"outlinewidth\":0,\"ticks\":\"\"}},\"colorscale\":{\"sequential\":[[0.0,\"#0d0887\"],[0.1111111111111111,\"#46039f\"],[0.2222222222222222,\"#7201a8\"],[0.3333333333333333,\"#9c179e\"],[0.4444444444444444,\"#bd3786\"],[0.5555555555555556,\"#d8576b\"],[0.6666666666666666,\"#ed7953\"],[0.7777777777777778,\"#fb9f3a\"],[0.8888888888888888,\"#fdca26\"],[1.0,\"#f0f921\"]],\"sequentialminus\":[[0.0,\"#0d0887\"],[0.1111111111111111,\"#46039f\"],[0.2222222222222222,\"#7201a8\"],[0.3333333333333333,\"#9c179e\"],[0.4444444444444444,\"#bd3786\"],[0.5555555555555556,\"#d8576b\"],[0.6666666666666666,\"#ed7953\"],[0.7777777777777778,\"#fb9f3a\"],[0.8888888888888888,\"#fdca26\"],[1.0,\"#f0f921\"]],\"diverging\":[[0,\"#8e0152\"],[0.1,\"#c51b7d\"],[0.2,\"#de77ae\"],[0.3,\"#f1b6da\"],[0.4,\"#fde0ef\"],[0.5,\"#f7f7f7\"],[0.6,\"#e6f5d0\"],[0.7,\"#b8e186\"],[0.8,\"#7fbc41\"],[0.9,\"#4d9221\"],[1,\"#276419\"]]},\"xaxis\":{\"gridcolor\":\"white\",\"linecolor\":\"white\",\"ticks\":\"\",\"title\":{\"standoff\":15},\"zerolinecolor\":\"white\",\"automargin\":true,\"zerolinewidth\":2},\"yaxis\":{\"gridcolor\":\"white\",\"linecolor\":\"white\",\"ticks\":\"\",\"title\":{\"standoff\":15},\"zerolinecolor\":\"white\",\"automargin\":true,\"zerolinewidth\":2},\"scene\":{\"xaxis\":{\"backgroundcolor\":\"#E5ECF6\",\"gridcolor\":\"white\",\"linecolor\":\"white\",\"showbackground\":true,\"ticks\":\"\",\"zerolinecolor\":\"white\",\"gridwidth\":2},\"yaxis\":{\"backgroundcolor\":\"#E5ECF6\",\"gridcolor\":\"white\",\"linecolor\":\"white\",\"showbackground\":true,\"ticks\":\"\",\"zerolinecolor\":\"white\",\"gridwidth\":2},\"zaxis\":{\"backgroundcolor\":\"#E5ECF6\",\"gridcolor\":\"white\",\"linecolor\":\"white\",\"showbackground\":true,\"ticks\":\"\",\"zerolinecolor\":\"white\",\"gridwidth\":2}},\"shapedefaults\":{\"line\":{\"color\":\"#2a3f5f\"}},\"annotationdefaults\":{\"arrowcolor\":\"#2a3f5f\",\"arrowhead\":0,\"arrowwidth\":1},\"geo\":{\"bgcolor\":\"white\",\"landcolor\":\"#E5ECF6\",\"subunitcolor\":\"white\",\"showland\":true,\"showlakes\":true,\"lakecolor\":\"white\"},\"title\":{\"x\":0.05},\"mapbox\":{\"style\":\"light\"}}},\"xaxis\":{\"anchor\":\"y\",\"domain\":[0.0,1.0],\"rangeslider\":{\"visible\":false}},\"yaxis\":{\"anchor\":\"x\",\"domain\":[0.575,1.0]},\"xaxis2\":{\"anchor\":\"y2\",\"domain\":[0.0,1.0]},\"yaxis2\":{\"anchor\":\"x2\",\"domain\":[0.0,0.425]}},                        {\"responsive\": true}                    ).then(function(){\n",
       "                            \n",
       "var gd = document.getElementById('1dbb0ffe-ab8d-45dd-82c2-9545d73501d6');\n",
       "var x = new MutationObserver(function (mutations, observer) {{\n",
       "        var display = window.getComputedStyle(gd).display;\n",
       "        if (!display || display === 'none') {{\n",
       "            console.log([gd, 'removed!']);\n",
       "            Plotly.purge(gd);\n",
       "            observer.disconnect();\n",
       "        }}\n",
       "}});\n",
       "\n",
       "// Listen for the removal of the full notebook cells\n",
       "var notebookContainer = gd.closest('#notebook-container');\n",
       "if (notebookContainer) {{\n",
       "    x.observe(notebookContainer, {childList: true});\n",
       "}}\n",
       "\n",
       "// Listen for the clearing of the current output cell\n",
       "var outputEl = gd.closest('.output');\n",
       "if (outputEl) {{\n",
       "    x.observe(outputEl, {childList: true});\n",
       "}}\n",
       "\n",
       "                        })                };                });            </script>        </div>"
      ]
     },
     "metadata": {},
     "output_type": "display_data"
    }
   ],
   "source": [
    "df_plot = df[0:60]\n",
    "fig = make_subplots(rows=2, cols=1)\n",
    "fig.append_trace(go.Candlestick(x=df_plot.index,\n",
    "                open=df_plot.open,\n",
    "                high=df_plot.high,\n",
    "                low=df_plot.low,\n",
    "                close=df_plot.close), row=1, col=1)\n",
    "\n",
    "fig.add_scatter(x=df_plot.index, y=df_plot['pointpos'], mode=\"markers\",\n",
    "                marker=dict(size=10, color=\"MediumPurple\"),\n",
    "                name=\"pivot\", row=1, col=1)\n",
    "\n",
    "fig.append_trace(go.Scatter(\n",
    "    x=df_plot.index,\n",
    "    y=df_plot['%K'],\n",
    "    line_color=\"Red\"\n",
    "), row=2, col=1)\n",
    "\n",
    "fig.append_trace(go.Scatter(\n",
    "    x=df_plot.index,\n",
    "    y=df_plot['%D'],\n",
    "    line_color=\"Green\"\n",
    "), row=2, col=1)\n",
    "\n",
    "fig.add_scatter(x=df_plot.index, y=df_plot['Kpointpos'], mode=\"markers\",\n",
    "                marker=dict(size=10, color=\"MediumPurple\"),\n",
    "                name=\"pivot\", row=2, col=1)\n",
    "\n",
    "fig.update_layout(xaxis_rangeslider_visible=False)\n",
    "fig.show()"
   ]
  },
  {
   "cell_type": "code",
   "execution_count": 519,
   "id": "99a3cd7a",
   "metadata": {},
   "outputs": [],
   "source": [
    "csv_filename = f'XMR_{start_str}_{end_str}_{interval}.csv'\n",
    "df.to_csv(csv_filename, index=False)"
   ]
  },
  {
   "cell_type": "code",
   "execution_count": 520,
   "id": "99d8336b",
   "metadata": {},
   "outputs": [],
   "source": [
    "class Signals:\n",
    "    def __init__(self, df, lags):\n",
    "        self.df = df\n",
    "        self.lags = lags\n",
    "        \n",
    "    def gettrigger(self):\n",
    "        dfx = pd.DataFrame()\n",
    "        for i in range(self.lags + 1):\n",
    "            mask = (self.df['%K'].shift(i) < 20) & (self.df['%D'].shift(i) < 20)\n",
    "            dfx = dfx.append(mask, ignore_index=True)\n",
    "            #dfx = pd.concat((dfx, mask), axis=0, ignore_index=True)\n",
    "            \n",
    "        return dfx.sum(axis=0)\n",
    "    \n",
    "    def decide(self):\n",
    "        self.df['trigger'] = np.where(self.gettrigger(), 1, 0)\n",
    "        self.df['Buy'] = np.where((self.df.trigger) &\n",
    "                                 (self.df['%K'].between(20, 80)) & (self.df['%D'].between(20, 80)) &\n",
    "                                 (self.df.rsi > 50) & (self.df.macd > 0), 1, 0)\n",
    "        "
   ]
  },
  {
   "cell_type": "code",
   "execution_count": 521,
   "id": "9236e1de",
   "metadata": {},
   "outputs": [],
   "source": [
    "signals = Signals(df, 5)"
   ]
  },
  {
   "cell_type": "code",
   "execution_count": 522,
   "id": "e8ae217f",
   "metadata": {},
   "outputs": [],
   "source": [
    "signals.decide()"
   ]
  },
  {
   "cell_type": "code",
   "execution_count": 523,
   "id": "f602f50f",
   "metadata": {
    "scrolled": true
   },
   "outputs": [
    {
     "data": {
      "text/html": [
       "<div>\n",
       "<style scoped>\n",
       "    .dataframe tbody tr th:only-of-type {\n",
       "        vertical-align: middle;\n",
       "    }\n",
       "\n",
       "    .dataframe tbody tr th {\n",
       "        vertical-align: top;\n",
       "    }\n",
       "\n",
       "    .dataframe thead th {\n",
       "        text-align: right;\n",
       "    }\n",
       "</style>\n",
       "<table border=\"1\" class=\"dataframe\">\n",
       "  <thead>\n",
       "    <tr style=\"text-align: right;\">\n",
       "      <th></th>\n",
       "      <th>time</th>\n",
       "      <th>open</th>\n",
       "      <th>high</th>\n",
       "      <th>low</th>\n",
       "      <th>close</th>\n",
       "      <th>volume</th>\n",
       "      <th>%K</th>\n",
       "      <th>%D</th>\n",
       "      <th>rsi</th>\n",
       "      <th>macd</th>\n",
       "      <th>pivot</th>\n",
       "      <th>Kpivot</th>\n",
       "      <th>pointpos</th>\n",
       "      <th>Kpointpos</th>\n",
       "      <th>trigger</th>\n",
       "      <th>Buy</th>\n",
       "    </tr>\n",
       "  </thead>\n",
       "  <tbody>\n",
       "    <tr>\n",
       "      <th>8</th>\n",
       "      <td>2022-06-12 11:15:00</td>\n",
       "      <td>158.9</td>\n",
       "      <td>161.7</td>\n",
       "      <td>158.6</td>\n",
       "      <td>161.4</td>\n",
       "      <td>2608.277</td>\n",
       "      <td>70.000000</td>\n",
       "      <td>24.444444</td>\n",
       "      <td>56.673095</td>\n",
       "      <td>0.184472</td>\n",
       "      <td>1</td>\n",
       "      <td>0</td>\n",
       "      <td>158.599</td>\n",
       "      <td>NaN</td>\n",
       "      <td>1</td>\n",
       "      <td>1</td>\n",
       "    </tr>\n",
       "    <tr>\n",
       "      <th>9</th>\n",
       "      <td>2022-06-12 11:30:00</td>\n",
       "      <td>161.5</td>\n",
       "      <td>161.8</td>\n",
       "      <td>160.7</td>\n",
       "      <td>160.8</td>\n",
       "      <td>487.603</td>\n",
       "      <td>56.410256</td>\n",
       "      <td>42.136752</td>\n",
       "      <td>54.068803</td>\n",
       "      <td>0.157013</td>\n",
       "      <td>0</td>\n",
       "      <td>0</td>\n",
       "      <td>NaN</td>\n",
       "      <td>NaN</td>\n",
       "      <td>1</td>\n",
       "      <td>1</td>\n",
       "    </tr>\n",
       "    <tr>\n",
       "      <th>10</th>\n",
       "      <td>2022-06-12 11:45:00</td>\n",
       "      <td>160.7</td>\n",
       "      <td>160.8</td>\n",
       "      <td>160.0</td>\n",
       "      <td>160.1</td>\n",
       "      <td>603.748</td>\n",
       "      <td>38.461538</td>\n",
       "      <td>54.957265</td>\n",
       "      <td>51.117500</td>\n",
       "      <td>0.083858</td>\n",
       "      <td>0</td>\n",
       "      <td>0</td>\n",
       "      <td>NaN</td>\n",
       "      <td>NaN</td>\n",
       "      <td>1</td>\n",
       "      <td>1</td>\n",
       "    </tr>\n",
       "    <tr>\n",
       "      <th>11</th>\n",
       "      <td>2022-06-12 12:00:00</td>\n",
       "      <td>160.2</td>\n",
       "      <td>161.5</td>\n",
       "      <td>159.6</td>\n",
       "      <td>161.5</td>\n",
       "      <td>1399.490</td>\n",
       "      <td>74.358974</td>\n",
       "      <td>56.410256</td>\n",
       "      <td>56.259854</td>\n",
       "      <td>0.119723</td>\n",
       "      <td>0</td>\n",
       "      <td>0</td>\n",
       "      <td>NaN</td>\n",
       "      <td>NaN</td>\n",
       "      <td>1</td>\n",
       "      <td>1</td>\n",
       "    </tr>\n",
       "    <tr>\n",
       "      <th>12</th>\n",
       "      <td>2022-06-12 12:15:00</td>\n",
       "      <td>161.5</td>\n",
       "      <td>161.5</td>\n",
       "      <td>159.9</td>\n",
       "      <td>160.2</td>\n",
       "      <td>376.648</td>\n",
       "      <td>50.000000</td>\n",
       "      <td>54.273504</td>\n",
       "      <td>50.904762</td>\n",
       "      <td>0.049459</td>\n",
       "      <td>0</td>\n",
       "      <td>0</td>\n",
       "      <td>NaN</td>\n",
       "      <td>NaN</td>\n",
       "      <td>1</td>\n",
       "      <td>1</td>\n",
       "    </tr>\n",
       "    <tr>\n",
       "      <th>27</th>\n",
       "      <td>2022-06-12 16:00:00</td>\n",
       "      <td>164.0</td>\n",
       "      <td>164.4</td>\n",
       "      <td>163.0</td>\n",
       "      <td>163.3</td>\n",
       "      <td>1470.365</td>\n",
       "      <td>78.750000</td>\n",
       "      <td>79.988263</td>\n",
       "      <td>57.319295</td>\n",
       "      <td>0.092312</td>\n",
       "      <td>0</td>\n",
       "      <td>0</td>\n",
       "      <td>NaN</td>\n",
       "      <td>NaN</td>\n",
       "      <td>1</td>\n",
       "      <td>1</td>\n",
       "    </tr>\n",
       "  </tbody>\n",
       "</table>\n",
       "</div>"
      ],
      "text/plain": [
       "                  time   open   high    low  close    volume         %K  \\\n",
       "8  2022-06-12 11:15:00  158.9  161.7  158.6  161.4  2608.277  70.000000   \n",
       "9  2022-06-12 11:30:00  161.5  161.8  160.7  160.8   487.603  56.410256   \n",
       "10 2022-06-12 11:45:00  160.7  160.8  160.0  160.1   603.748  38.461538   \n",
       "11 2022-06-12 12:00:00  160.2  161.5  159.6  161.5  1399.490  74.358974   \n",
       "12 2022-06-12 12:15:00  161.5  161.5  159.9  160.2   376.648  50.000000   \n",
       "27 2022-06-12 16:00:00  164.0  164.4  163.0  163.3  1470.365  78.750000   \n",
       "\n",
       "           %D        rsi      macd  pivot  Kpivot  pointpos  Kpointpos  \\\n",
       "8   24.444444  56.673095  0.184472      1       0   158.599        NaN   \n",
       "9   42.136752  54.068803  0.157013      0       0       NaN        NaN   \n",
       "10  54.957265  51.117500  0.083858      0       0       NaN        NaN   \n",
       "11  56.410256  56.259854  0.119723      0       0       NaN        NaN   \n",
       "12  54.273504  50.904762  0.049459      0       0       NaN        NaN   \n",
       "27  79.988263  57.319295  0.092312      0       0       NaN        NaN   \n",
       "\n",
       "    trigger  Buy  \n",
       "8         1    1  \n",
       "9         1    1  \n",
       "10        1    1  \n",
       "11        1    1  \n",
       "12        1    1  \n",
       "27        1    1  "
      ]
     },
     "execution_count": 523,
     "metadata": {},
     "output_type": "execute_result"
    }
   ],
   "source": [
    "#all_coins_df\n",
    "df[df.Buy == 1]"
   ]
  },
  {
   "cell_type": "code",
   "execution_count": 524,
   "id": "6914f9a3",
   "metadata": {},
   "outputs": [],
   "source": [
    "class TradingEnv:\n",
    "    def __init__(self, balance_amount, balance_unit, trading_fee_multiplier):\n",
    "        self.balance_amount = balance_amount\n",
    "        self.balance_unit = balance_unit\n",
    "        self.buys = []\n",
    "        self.sells = []\n",
    "        self.trading_fee_multiplier = trading_fee_multiplier\n",
    "        \n",
    "    def buy(self, symbol, buy_price, time):\n",
    "        self.balance_amount = (self.balance_amount / buy_price) * self.trading_fee_multiplier\n",
    "        self.balance_unit = symbol\n",
    "        self.buys.append([symbol, time, buy_price])\n",
    "        \n",
    "    def sell(self, sell_price, time):\n",
    "        self.balance_amount = self.balance_amount * sell_price * self.trading_fee_multiplier\n",
    "        self.sells.append( [self.balance_unit, time, sell_price] )\n",
    "        self.balance_unit = 'USDT'"
   ]
  },
  {
   "cell_type": "code",
   "execution_count": 525,
   "id": "09a678a4",
   "metadata": {},
   "outputs": [
    {
     "ename": "KeyError",
     "evalue": "'XMR-USD_Open'",
     "output_type": "error",
     "traceback": [
      "\u001b[1;31m---------------------------------------------------------------------------\u001b[0m",
      "\u001b[1;31mKeyError\u001b[0m                                  Traceback (most recent call last)",
      "File \u001b[1;32mG:\\Dev2022\\Environments\\pythoncrypto\\lib\\site-packages\\pandas\\core\\indexes\\base.py:3621\u001b[0m, in \u001b[0;36mIndex.get_loc\u001b[1;34m(self, key, method, tolerance)\u001b[0m\n\u001b[0;32m   3620\u001b[0m \u001b[38;5;28;01mtry\u001b[39;00m:\n\u001b[1;32m-> 3621\u001b[0m     \u001b[38;5;28;01mreturn\u001b[39;00m \u001b[38;5;28;43mself\u001b[39;49m\u001b[38;5;241;43m.\u001b[39;49m\u001b[43m_engine\u001b[49m\u001b[38;5;241;43m.\u001b[39;49m\u001b[43mget_loc\u001b[49m\u001b[43m(\u001b[49m\u001b[43mcasted_key\u001b[49m\u001b[43m)\u001b[49m\n\u001b[0;32m   3622\u001b[0m \u001b[38;5;28;01mexcept\u001b[39;00m \u001b[38;5;167;01mKeyError\u001b[39;00m \u001b[38;5;28;01mas\u001b[39;00m err:\n",
      "File \u001b[1;32mG:\\Dev2022\\Environments\\pythoncrypto\\lib\\site-packages\\pandas\\_libs\\index.pyx:136\u001b[0m, in \u001b[0;36mpandas._libs.index.IndexEngine.get_loc\u001b[1;34m()\u001b[0m\n",
      "File \u001b[1;32mG:\\Dev2022\\Environments\\pythoncrypto\\lib\\site-packages\\pandas\\_libs\\index.pyx:163\u001b[0m, in \u001b[0;36mpandas._libs.index.IndexEngine.get_loc\u001b[1;34m()\u001b[0m\n",
      "File \u001b[1;32mpandas\\_libs\\hashtable_class_helper.pxi:5198\u001b[0m, in \u001b[0;36mpandas._libs.hashtable.PyObjectHashTable.get_item\u001b[1;34m()\u001b[0m\n",
      "File \u001b[1;32mpandas\\_libs\\hashtable_class_helper.pxi:5206\u001b[0m, in \u001b[0;36mpandas._libs.hashtable.PyObjectHashTable.get_item\u001b[1;34m()\u001b[0m\n",
      "\u001b[1;31mKeyError\u001b[0m: 'XMR-USD_Open'",
      "\nThe above exception was the direct cause of the following exception:\n",
      "\u001b[1;31mKeyError\u001b[0m                                  Traceback (most recent call last)",
      "Input \u001b[1;32mIn [525]\u001b[0m, in \u001b[0;36m<cell line: 9>\u001b[1;34m()\u001b[0m\n\u001b[0;32m      9\u001b[0m \u001b[38;5;28;01mfor\u001b[39;00m i \u001b[38;5;129;01min\u001b[39;00m \u001b[38;5;28mrange\u001b[39m(\u001b[38;5;28mlen\u001b[39m(df[df\u001b[38;5;241m.\u001b[39mBuy \u001b[38;5;241m==\u001b[39m \u001b[38;5;241m1\u001b[39m])):\n\u001b[0;32m     10\u001b[0m     \u001b[38;5;66;03m# BUY\u001b[39;00m\n\u001b[0;32m     11\u001b[0m     \u001b[38;5;28;01mif\u001b[39;00m \u001b[38;5;129;01mnot\u001b[39;00m open_position:\n\u001b[1;32m---> 12\u001b[0m         buyprice \u001b[38;5;241m=\u001b[39m \u001b[38;5;28mfloat\u001b[39m(\u001b[43mdf\u001b[49m\u001b[43m[\u001b[49m\u001b[38;5;124;43mf\u001b[39;49m\u001b[38;5;124;43m'\u001b[39;49m\u001b[38;5;132;43;01m{\u001b[39;49;00m\u001b[43mcoin\u001b[49m\u001b[38;5;132;43;01m}\u001b[39;49;00m\u001b[38;5;124;43m-USD_Open\u001b[39;49m\u001b[38;5;124;43m'\u001b[39;49m\u001b[43m]\u001b[49m\u001b[38;5;241m.\u001b[39miloc[i])\n\u001b[0;32m     14\u001b[0m         target_price \u001b[38;5;241m=\u001b[39m \u001b[38;5;28mfloat\u001b[39m(buyprice \u001b[38;5;241m*\u001b[39m \u001b[38;5;241m1.005\u001b[39m)\n\u001b[0;32m     15\u001b[0m         stop_price \u001b[38;5;241m=\u001b[39m \u001b[38;5;28mfloat\u001b[39m(buyprice \u001b[38;5;241m*\u001b[39m \u001b[38;5;241m0.995\u001b[39m)\n",
      "File \u001b[1;32mG:\\Dev2022\\Environments\\pythoncrypto\\lib\\site-packages\\pandas\\core\\frame.py:3505\u001b[0m, in \u001b[0;36mDataFrame.__getitem__\u001b[1;34m(self, key)\u001b[0m\n\u001b[0;32m   3503\u001b[0m \u001b[38;5;28;01mif\u001b[39;00m \u001b[38;5;28mself\u001b[39m\u001b[38;5;241m.\u001b[39mcolumns\u001b[38;5;241m.\u001b[39mnlevels \u001b[38;5;241m>\u001b[39m \u001b[38;5;241m1\u001b[39m:\n\u001b[0;32m   3504\u001b[0m     \u001b[38;5;28;01mreturn\u001b[39;00m \u001b[38;5;28mself\u001b[39m\u001b[38;5;241m.\u001b[39m_getitem_multilevel(key)\n\u001b[1;32m-> 3505\u001b[0m indexer \u001b[38;5;241m=\u001b[39m \u001b[38;5;28;43mself\u001b[39;49m\u001b[38;5;241;43m.\u001b[39;49m\u001b[43mcolumns\u001b[49m\u001b[38;5;241;43m.\u001b[39;49m\u001b[43mget_loc\u001b[49m\u001b[43m(\u001b[49m\u001b[43mkey\u001b[49m\u001b[43m)\u001b[49m\n\u001b[0;32m   3506\u001b[0m \u001b[38;5;28;01mif\u001b[39;00m is_integer(indexer):\n\u001b[0;32m   3507\u001b[0m     indexer \u001b[38;5;241m=\u001b[39m [indexer]\n",
      "File \u001b[1;32mG:\\Dev2022\\Environments\\pythoncrypto\\lib\\site-packages\\pandas\\core\\indexes\\base.py:3623\u001b[0m, in \u001b[0;36mIndex.get_loc\u001b[1;34m(self, key, method, tolerance)\u001b[0m\n\u001b[0;32m   3621\u001b[0m     \u001b[38;5;28;01mreturn\u001b[39;00m \u001b[38;5;28mself\u001b[39m\u001b[38;5;241m.\u001b[39m_engine\u001b[38;5;241m.\u001b[39mget_loc(casted_key)\n\u001b[0;32m   3622\u001b[0m \u001b[38;5;28;01mexcept\u001b[39;00m \u001b[38;5;167;01mKeyError\u001b[39;00m \u001b[38;5;28;01mas\u001b[39;00m err:\n\u001b[1;32m-> 3623\u001b[0m     \u001b[38;5;28;01mraise\u001b[39;00m \u001b[38;5;167;01mKeyError\u001b[39;00m(key) \u001b[38;5;28;01mfrom\u001b[39;00m \u001b[38;5;21;01merr\u001b[39;00m\n\u001b[0;32m   3624\u001b[0m \u001b[38;5;28;01mexcept\u001b[39;00m \u001b[38;5;167;01mTypeError\u001b[39;00m:\n\u001b[0;32m   3625\u001b[0m     \u001b[38;5;66;03m# If we have a listlike key, _check_indexing_error will raise\u001b[39;00m\n\u001b[0;32m   3626\u001b[0m     \u001b[38;5;66;03m#  InvalidIndexError. Otherwise we fall through and re-raise\u001b[39;00m\n\u001b[0;32m   3627\u001b[0m     \u001b[38;5;66;03m#  the TypeError.\u001b[39;00m\n\u001b[0;32m   3628\u001b[0m     \u001b[38;5;28mself\u001b[39m\u001b[38;5;241m.\u001b[39m_check_indexing_error(key)\n",
      "\u001b[1;31mKeyError\u001b[0m: 'XMR-USD_Open'"
     ]
    }
   ],
   "source": [
    "# VIP level 0, paying fees with BNB = 0.00075%\n",
    "env = TradingEnv(balance_amount=100,balance_unit='USDT', trading_fee_multiplier=0.99925)\n",
    "\n",
    "coin = 'XMR'\n",
    "\n",
    "open_position = False\n",
    "\n",
    "# for each row where Buy == 1, buy @ open price and sell @ close price\n",
    "for i in range(len(df[df.Buy == 1])):\n",
    "    # BUY\n",
    "    if not open_position:\n",
    "        buyprice = float(df[f'{coin}-USD_Open'].iloc[i])\n",
    "\n",
    "        target_price = float(buyprice * 1.005)\n",
    "        stop_price = float(buyprice * 0.995)\n",
    "\n",
    "        buytime = df['OpenTime'].iloc[i]\n",
    "        quantity = env.balance_amount / buyprice\n",
    "\n",
    "        env.buy(coin, buyprice, buytime)\n",
    "        open_position = True\n",
    "\n",
    "        buy_order = f'{buytime} : {env.balance_unit} : BUY : price = {buyprice} : QTY : {quantity}, Target : {target_price} , Stop : {stop_price}'   \n",
    "        print(buy_order)\n",
    "        print()\n",
    "    \n",
    "    # SELL\n",
    "    close_price = (float)(df[f'{coin}-USD_Close'].iloc[i])\n",
    "\n",
    "    if close_price <= stop_price or close_price >= target_price:\n",
    "        sell_price = close_price\n",
    "        selltime = df.OpenTime.iloc[i]\n",
    "            \n",
    "        env.sell(sell_price, selltime)\n",
    "        open_position = False\n",
    "        sell_order = f'{selltime} : {env.balance_unit} : SELL : price = {sell_price}'\n",
    "\n",
    "        print(sell_order)\n",
    "        print(f'Profit : {sell_price - buyprice}')\n",
    "        print()\n",
    "\n",
    "if open_position:\n",
    "    env.sell(close_price, selltime)\n",
    "    open_position = False\n",
    "    sell_order = f'{selltime} : {env.balance_unit} : SELL : price = {close_price}'\n",
    "            \n",
    "    print(sell_order)\n",
    "    print(f'Profit : {close_price - buyprice}')\n",
    "    print()    \n",
    "\n",
    "print(f'num buys: {len(env.buys)}')\n",
    "print(f'num sells: {len(env.sells)}')\n",
    "print(f'ending balance: {env.balance_amount} {env.balance_unit}')    "
   ]
  },
  {
   "cell_type": "code",
   "execution_count": null,
   "id": "6a767b4c",
   "metadata": {},
   "outputs": [],
   "source": []
  }
 ],
 "metadata": {
  "kernelspec": {
   "display_name": "Python 3 (ipykernel)",
   "language": "python",
   "name": "python3"
  },
  "language_info": {
   "codemirror_mode": {
    "name": "ipython",
    "version": 3
   },
   "file_extension": ".py",
   "mimetype": "text/x-python",
   "name": "python",
   "nbconvert_exporter": "python",
   "pygments_lexer": "ipython3",
   "version": "3.10.5"
  }
 },
 "nbformat": 4,
 "nbformat_minor": 5
}
